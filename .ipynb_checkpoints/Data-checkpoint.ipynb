{
 "cells": [
  {
   "cell_type": "code",
   "execution_count": 1,
   "metadata": {},
   "outputs": [],
   "source": [
    "import pandas as pd\n",
    "import numpy as np"
   ]
  },
  {
   "cell_type": "code",
   "execution_count": 2,
   "metadata": {},
   "outputs": [],
   "source": [
    "data = pd.read_excel(\"~/Desktop/data.xls\",header = 3)"
   ]
  },
  {
   "cell_type": "code",
   "execution_count": 3,
   "metadata": {},
   "outputs": [
    {
     "data": {
      "text/html": [
       "<div>\n",
       "<style scoped>\n",
       "    .dataframe tbody tr th:only-of-type {\n",
       "        vertical-align: middle;\n",
       "    }\n",
       "\n",
       "    .dataframe tbody tr th {\n",
       "        vertical-align: top;\n",
       "    }\n",
       "\n",
       "    .dataframe thead th {\n",
       "        text-align: right;\n",
       "    }\n",
       "</style>\n",
       "<table border=\"1\" class=\"dataframe\">\n",
       "  <thead>\n",
       "    <tr style=\"text-align: right;\">\n",
       "      <th></th>\n",
       "      <th>Unnamed: 0</th>\n",
       "      <th>Unnamed: 1</th>\n",
       "      <th>Unnamed: 2</th>\n",
       "      <th>Unnamed: 3</th>\n",
       "      <th>Глюкоза</th>\n",
       "      <th>Мочевина</th>\n",
       "      <th>Креатинин</th>\n",
       "      <th>Мочевая к-та</th>\n",
       "      <th>Холестерин</th>\n",
       "      <th>Х-ЛПВП</th>\n",
       "      <th>...</th>\n",
       "      <th>Анг II, пг/мл (N 10-60 пг/мл)</th>\n",
       "      <th>ЭТ, пмоль/л    (N =0,09)</th>\n",
       "      <th>VEGF,  пг/мл (N40-600)</th>\n",
       "      <th>HLDF (нг/мл</th>\n",
       "      <th>АТ к S100b</th>\n",
       "      <th>АТ к Анг  II</th>\n",
       "      <th>АТ к ЭТ</th>\n",
       "      <th>АТ к HLDF- 24</th>\n",
       "      <th>Unnamed: 35</th>\n",
       "      <th>Unnamed: 36</th>\n",
       "    </tr>\n",
       "  </thead>\n",
       "  <tbody>\n",
       "    <tr>\n",
       "      <td>0</td>\n",
       "      <td>NaN</td>\n",
       "      <td>NaN</td>\n",
       "      <td>NaN</td>\n",
       "      <td>NaN</td>\n",
       "      <td>мМ/Л</td>\n",
       "      <td>мМ/Л</td>\n",
       "      <td>мкМ/Л</td>\n",
       "      <td>мкМ/Л</td>\n",
       "      <td>мМ/Л</td>\n",
       "      <td>мМ/Л</td>\n",
       "      <td>...</td>\n",
       "      <td>NaN</td>\n",
       "      <td>NaN</td>\n",
       "      <td>NaN</td>\n",
       "      <td>NaN</td>\n",
       "      <td>NaN</td>\n",
       "      <td>NaN</td>\n",
       "      <td>NaN</td>\n",
       "      <td>NaN</td>\n",
       "      <td>NaN</td>\n",
       "      <td>NaN</td>\n",
       "    </tr>\n",
       "    <tr>\n",
       "      <td>1</td>\n",
       "      <td>2.0</td>\n",
       "      <td>Сл-сантехник</td>\n",
       "      <td>2.0</td>\n",
       "      <td>1956.0</td>\n",
       "      <td>6.2</td>\n",
       "      <td>5.9</td>\n",
       "      <td>110</td>\n",
       "      <td>443</td>\n",
       "      <td>6.2</td>\n",
       "      <td>1.07</td>\n",
       "      <td>...</td>\n",
       "      <td>NaN</td>\n",
       "      <td>NaN</td>\n",
       "      <td>NaN</td>\n",
       "      <td>NaN</td>\n",
       "      <td>NaN</td>\n",
       "      <td>NaN</td>\n",
       "      <td>NaN</td>\n",
       "      <td>NaN</td>\n",
       "      <td>0</td>\n",
       "      <td>2.0</td>\n",
       "    </tr>\n",
       "    <tr>\n",
       "      <td>2</td>\n",
       "      <td>3.0</td>\n",
       "      <td>инженер</td>\n",
       "      <td>1.0</td>\n",
       "      <td>1962.0</td>\n",
       "      <td>5.2</td>\n",
       "      <td>5</td>\n",
       "      <td>72</td>\n",
       "      <td>164</td>\n",
       "      <td>5.5</td>\n",
       "      <td>2.27</td>\n",
       "      <td>...</td>\n",
       "      <td>NaN</td>\n",
       "      <td>NaN</td>\n",
       "      <td>NaN</td>\n",
       "      <td>NaN</td>\n",
       "      <td>NaN</td>\n",
       "      <td>NaN</td>\n",
       "      <td>NaN</td>\n",
       "      <td>NaN</td>\n",
       "      <td>0</td>\n",
       "      <td>3.0</td>\n",
       "    </tr>\n",
       "    <tr>\n",
       "      <td>3</td>\n",
       "      <td>4.0</td>\n",
       "      <td>Инженер-технолог</td>\n",
       "      <td>-1000.0</td>\n",
       "      <td>1962.0</td>\n",
       "      <td>5.1</td>\n",
       "      <td>5.8</td>\n",
       "      <td>85</td>\n",
       "      <td>345</td>\n",
       "      <td>6.6</td>\n",
       "      <td>2.1</td>\n",
       "      <td>...</td>\n",
       "      <td>NaN</td>\n",
       "      <td>NaN</td>\n",
       "      <td>NaN</td>\n",
       "      <td>NaN</td>\n",
       "      <td>NaN</td>\n",
       "      <td>NaN</td>\n",
       "      <td>NaN</td>\n",
       "      <td>NaN</td>\n",
       "      <td>0</td>\n",
       "      <td>4.0</td>\n",
       "    </tr>\n",
       "    <tr>\n",
       "      <td>4</td>\n",
       "      <td>5.0</td>\n",
       "      <td>водитель</td>\n",
       "      <td>2.0</td>\n",
       "      <td>1964.0</td>\n",
       "      <td>5.6</td>\n",
       "      <td>5.7</td>\n",
       "      <td>74</td>\n",
       "      <td>438</td>\n",
       "      <td>6.3</td>\n",
       "      <td>1.04</td>\n",
       "      <td>...</td>\n",
       "      <td>0.38</td>\n",
       "      <td>0.07</td>\n",
       "      <td>458.4</td>\n",
       "      <td>NaN</td>\n",
       "      <td>1600.0</td>\n",
       "      <td>1600.0</td>\n",
       "      <td>400.0</td>\n",
       "      <td>50.0</td>\n",
       "      <td>0</td>\n",
       "      <td>5.0</td>\n",
       "    </tr>\n",
       "  </tbody>\n",
       "</table>\n",
       "<p>5 rows × 37 columns</p>\n",
       "</div>"
      ],
      "text/plain": [
       "   Unnamed: 0        Unnamed: 1  Unnamed: 2  Unnamed: 3 Глюкоза Мочевина  \\\n",
       "0         NaN               NaN         NaN         NaN    мМ/Л     мМ/Л   \n",
       "1         2.0      Сл-сантехник         2.0      1956.0     6.2      5.9   \n",
       "2         3.0          инженер          1.0      1962.0     5.2        5   \n",
       "3         4.0  Инженер-технолог     -1000.0      1962.0     5.1      5.8   \n",
       "4         5.0          водитель         2.0      1964.0     5.6      5.7   \n",
       "\n",
       "  Креатинин Мочевая к-та Холестерин Х-ЛПВП  ... Анг II, пг/мл (N 10-60 пг/мл)  \\\n",
       "0     мкМ/Л        мкМ/Л       мМ/Л   мМ/Л  ...                           NaN   \n",
       "1       110          443        6.2   1.07  ...                           NaN   \n",
       "2        72          164        5.5   2.27  ...                           NaN   \n",
       "3        85          345        6.6    2.1  ...                           NaN   \n",
       "4        74          438        6.3   1.04  ...                          0.38   \n",
       "\n",
       "  ЭТ, пмоль/л    (N =0,09) VEGF,  пг/мл (N40-600) HLDF (нг/мл АТ к S100b  \\\n",
       "0                      NaN                    NaN         NaN        NaN   \n",
       "1                      NaN                    NaN         NaN        NaN   \n",
       "2                      NaN                    NaN         NaN        NaN   \n",
       "3                      NaN                    NaN         NaN        NaN   \n",
       "4                     0.07                  458.4         NaN     1600.0   \n",
       "\n",
       "  АТ к Анг  II  АТ к ЭТ  АТ к HLDF- 24 Unnamed: 35 Unnamed: 36  \n",
       "0           NaN      NaN           NaN         NaN         NaN  \n",
       "1           NaN      NaN           NaN           0         2.0  \n",
       "2           NaN      NaN           NaN           0         3.0  \n",
       "3           NaN      NaN           NaN           0         4.0  \n",
       "4        1600.0    400.0          50.0           0         5.0  \n",
       "\n",
       "[5 rows x 37 columns]"
      ]
     },
     "execution_count": 3,
     "metadata": {},
     "output_type": "execute_result"
    }
   ],
   "source": [
    "data.head(5)"
   ]
  },
  {
   "cell_type": "code",
   "execution_count": 4,
   "metadata": {},
   "outputs": [],
   "source": [
    "data = data.drop(0)"
   ]
  },
  {
   "cell_type": "code",
   "execution_count": 5,
   "metadata": {},
   "outputs": [],
   "source": [
    "data = data.rename(columns={\"Unnamed: 0\" : \"Number\", \"Unnamed: 1\" : \"Profession\"})\n",
    "data = data.rename(columns={\"Unnamed: 2\" : \"Gender\", \"Unnamed: 3\" : \"Birth_year\"})"
   ]
  },
  {
   "cell_type": "code",
   "execution_count": 6,
   "metadata": {},
   "outputs": [
    {
     "data": {
      "text/html": [
       "<div>\n",
       "<style scoped>\n",
       "    .dataframe tbody tr th:only-of-type {\n",
       "        vertical-align: middle;\n",
       "    }\n",
       "\n",
       "    .dataframe tbody tr th {\n",
       "        vertical-align: top;\n",
       "    }\n",
       "\n",
       "    .dataframe thead th {\n",
       "        text-align: right;\n",
       "    }\n",
       "</style>\n",
       "<table border=\"1\" class=\"dataframe\">\n",
       "  <thead>\n",
       "    <tr style=\"text-align: right;\">\n",
       "      <th></th>\n",
       "      <th>Number</th>\n",
       "      <th>Profession</th>\n",
       "      <th>Gender</th>\n",
       "      <th>Birth_year</th>\n",
       "      <th>Глюкоза</th>\n",
       "      <th>Мочевина</th>\n",
       "      <th>Креатинин</th>\n",
       "      <th>Мочевая к-та</th>\n",
       "      <th>Холестерин</th>\n",
       "      <th>Х-ЛПВП</th>\n",
       "      <th>...</th>\n",
       "      <th>Анг II, пг/мл (N 10-60 пг/мл)</th>\n",
       "      <th>ЭТ, пмоль/л    (N =0,09)</th>\n",
       "      <th>VEGF,  пг/мл (N40-600)</th>\n",
       "      <th>HLDF (нг/мл</th>\n",
       "      <th>АТ к S100b</th>\n",
       "      <th>АТ к Анг  II</th>\n",
       "      <th>АТ к ЭТ</th>\n",
       "      <th>АТ к HLDF- 24</th>\n",
       "      <th>Unnamed: 35</th>\n",
       "      <th>Unnamed: 36</th>\n",
       "    </tr>\n",
       "  </thead>\n",
       "  <tbody>\n",
       "    <tr>\n",
       "      <td>1</td>\n",
       "      <td>2.0</td>\n",
       "      <td>Сл-сантехник</td>\n",
       "      <td>2.0</td>\n",
       "      <td>1956.0</td>\n",
       "      <td>6.2</td>\n",
       "      <td>5.9</td>\n",
       "      <td>110</td>\n",
       "      <td>443</td>\n",
       "      <td>6.2</td>\n",
       "      <td>1.07</td>\n",
       "      <td>...</td>\n",
       "      <td>NaN</td>\n",
       "      <td>NaN</td>\n",
       "      <td>NaN</td>\n",
       "      <td>NaN</td>\n",
       "      <td>NaN</td>\n",
       "      <td>NaN</td>\n",
       "      <td>NaN</td>\n",
       "      <td>NaN</td>\n",
       "      <td>0</td>\n",
       "      <td>2.0</td>\n",
       "    </tr>\n",
       "    <tr>\n",
       "      <td>2</td>\n",
       "      <td>3.0</td>\n",
       "      <td>инженер</td>\n",
       "      <td>1.0</td>\n",
       "      <td>1962.0</td>\n",
       "      <td>5.2</td>\n",
       "      <td>5</td>\n",
       "      <td>72</td>\n",
       "      <td>164</td>\n",
       "      <td>5.5</td>\n",
       "      <td>2.27</td>\n",
       "      <td>...</td>\n",
       "      <td>NaN</td>\n",
       "      <td>NaN</td>\n",
       "      <td>NaN</td>\n",
       "      <td>NaN</td>\n",
       "      <td>NaN</td>\n",
       "      <td>NaN</td>\n",
       "      <td>NaN</td>\n",
       "      <td>NaN</td>\n",
       "      <td>0</td>\n",
       "      <td>3.0</td>\n",
       "    </tr>\n",
       "    <tr>\n",
       "      <td>3</td>\n",
       "      <td>4.0</td>\n",
       "      <td>Инженер-технолог</td>\n",
       "      <td>-1000.0</td>\n",
       "      <td>1962.0</td>\n",
       "      <td>5.1</td>\n",
       "      <td>5.8</td>\n",
       "      <td>85</td>\n",
       "      <td>345</td>\n",
       "      <td>6.6</td>\n",
       "      <td>2.1</td>\n",
       "      <td>...</td>\n",
       "      <td>NaN</td>\n",
       "      <td>NaN</td>\n",
       "      <td>NaN</td>\n",
       "      <td>NaN</td>\n",
       "      <td>NaN</td>\n",
       "      <td>NaN</td>\n",
       "      <td>NaN</td>\n",
       "      <td>NaN</td>\n",
       "      <td>0</td>\n",
       "      <td>4.0</td>\n",
       "    </tr>\n",
       "    <tr>\n",
       "      <td>4</td>\n",
       "      <td>5.0</td>\n",
       "      <td>водитель</td>\n",
       "      <td>2.0</td>\n",
       "      <td>1964.0</td>\n",
       "      <td>5.6</td>\n",
       "      <td>5.7</td>\n",
       "      <td>74</td>\n",
       "      <td>438</td>\n",
       "      <td>6.3</td>\n",
       "      <td>1.04</td>\n",
       "      <td>...</td>\n",
       "      <td>0.38</td>\n",
       "      <td>0.07</td>\n",
       "      <td>458.40</td>\n",
       "      <td>NaN</td>\n",
       "      <td>1600.0</td>\n",
       "      <td>1600.0</td>\n",
       "      <td>400.0</td>\n",
       "      <td>50.0</td>\n",
       "      <td>0</td>\n",
       "      <td>5.0</td>\n",
       "    </tr>\n",
       "    <tr>\n",
       "      <td>5</td>\n",
       "      <td>12.0</td>\n",
       "      <td>слесарь</td>\n",
       "      <td>2.0</td>\n",
       "      <td>1959.0</td>\n",
       "      <td>5.7</td>\n",
       "      <td>5.5</td>\n",
       "      <td>88</td>\n",
       "      <td>286</td>\n",
       "      <td>7.1</td>\n",
       "      <td>0.91</td>\n",
       "      <td>...</td>\n",
       "      <td>0.00</td>\n",
       "      <td>0.32</td>\n",
       "      <td>70.91</td>\n",
       "      <td>120.0</td>\n",
       "      <td>400.0</td>\n",
       "      <td>400.0</td>\n",
       "      <td>600.0</td>\n",
       "      <td>100.0</td>\n",
       "      <td>0</td>\n",
       "      <td>12.0</td>\n",
       "    </tr>\n",
       "  </tbody>\n",
       "</table>\n",
       "<p>5 rows × 37 columns</p>\n",
       "</div>"
      ],
      "text/plain": [
       "   Number        Profession  Gender  Birth_year Глюкоза Мочевина Креатинин  \\\n",
       "1     2.0      Сл-сантехник     2.0      1956.0     6.2      5.9       110   \n",
       "2     3.0          инженер      1.0      1962.0     5.2        5        72   \n",
       "3     4.0  Инженер-технолог -1000.0      1962.0     5.1      5.8        85   \n",
       "4     5.0          водитель     2.0      1964.0     5.6      5.7        74   \n",
       "5    12.0          слесарь      2.0      1959.0     5.7      5.5        88   \n",
       "\n",
       "  Мочевая к-та Холестерин Х-ЛПВП  ... Анг II, пг/мл (N 10-60 пг/мл)  \\\n",
       "1          443        6.2   1.07  ...                           NaN   \n",
       "2          164        5.5   2.27  ...                           NaN   \n",
       "3          345        6.6    2.1  ...                           NaN   \n",
       "4          438        6.3   1.04  ...                          0.38   \n",
       "5          286        7.1   0.91  ...                          0.00   \n",
       "\n",
       "  ЭТ, пмоль/л    (N =0,09) VEGF,  пг/мл (N40-600) HLDF (нг/мл АТ к S100b  \\\n",
       "1                      NaN                    NaN         NaN        NaN   \n",
       "2                      NaN                    NaN         NaN        NaN   \n",
       "3                      NaN                    NaN         NaN        NaN   \n",
       "4                     0.07                 458.40         NaN     1600.0   \n",
       "5                     0.32                  70.91       120.0      400.0   \n",
       "\n",
       "  АТ к Анг  II  АТ к ЭТ  АТ к HLDF- 24 Unnamed: 35 Unnamed: 36  \n",
       "1           NaN      NaN           NaN           0         2.0  \n",
       "2           NaN      NaN           NaN           0         3.0  \n",
       "3           NaN      NaN           NaN           0         4.0  \n",
       "4        1600.0    400.0          50.0           0         5.0  \n",
       "5         400.0    600.0         100.0           0        12.0  \n",
       "\n",
       "[5 rows x 37 columns]"
      ]
     },
     "execution_count": 6,
     "metadata": {},
     "output_type": "execute_result"
    }
   ],
   "source": [
    "data.head(5)"
   ]
  },
  {
   "cell_type": "code",
   "execution_count": 7,
   "metadata": {},
   "outputs": [
    {
     "data": {
      "text/plain": [
       "Index(['Number', 'Profession', 'Gender', 'Birth_year', 'Глюкоза', 'Мочевина',\n",
       "       'Креатинин', 'Мочевая к-та', 'Холестерин', 'Х-ЛПВП', 'Х-ЛПНП',\n",
       "       'Триглицериды', 'индекс массы тела', 'курк\\ение',\n",
       "       'избыт, Потр, Алкоголя', 'и,п повар, Соли', 'гиподинамия', 'стресс',\n",
       "       'прием п\\щ контрац', 'насл отяг, По ГБ, ', 'насл отяг, По ССЗ',\n",
       "       'насл отяг, По СД', 'насл, Отяг по почечн, Заб', 'САД', 'ДАД',\n",
       "       'ГЛЖ ин Соколова-Лайона', 'S100b, нг/л (N до 90)',\n",
       "       'Анг II, пг/мл (N 10-60 пг/мл)', 'ЭТ, пмоль/л    (N =0,09)',\n",
       "       'VEGF,  пг/мл (N40-600)', 'HLDF (нг/мл', 'АТ к S100b', 'АТ к Анг  II ',\n",
       "       'АТ к ЭТ ', 'АТ к HLDF- 24', 'Unnamed: 35', 'Unnamed: 36'],\n",
       "      dtype='object')"
      ]
     },
     "execution_count": 7,
     "metadata": {},
     "output_type": "execute_result"
    }
   ],
   "source": [
    "data.columns"
   ]
  },
  {
   "cell_type": "code",
   "execution_count": 8,
   "metadata": {},
   "outputs": [
    {
     "data": {
      "text/plain": [
       "array([0, 'о', 'п'], dtype=object)"
      ]
     },
     "execution_count": 8,
     "metadata": {},
     "output_type": "execute_result"
    }
   ],
   "source": [
    "data['Unnamed: 35'].unique()"
   ]
  },
  {
   "cell_type": "code",
   "execution_count": 9,
   "metadata": {},
   "outputs": [
    {
     "data": {
      "text/plain": [
       "array([0.])"
      ]
     },
     "execution_count": 9,
     "metadata": {},
     "output_type": "execute_result"
    }
   ],
   "source": [
    "(data[\"Unnamed: 36\"] - data[\"Number\"]).unique()\n",
    "# the last column copies \"Number\" one, so i'd remove it as redundant"
   ]
  },
  {
   "cell_type": "code",
   "execution_count": 10,
   "metadata": {},
   "outputs": [],
   "source": [
    "data = data.drop(columns={\"Unnamed: 36\"})"
   ]
  },
  {
   "cell_type": "code",
   "execution_count": 11,
   "metadata": {},
   "outputs": [
    {
     "data": {
      "text/plain": [
       "array([    2.,     1., -1000.])"
      ]
     },
     "execution_count": 11,
     "metadata": {},
     "output_type": "execute_result"
    }
   ],
   "source": [
    "data[\"Gender\"].unique()\n",
    "# okay, gender is 1 = female, 2 = male, -1000 - unknown"
   ]
  },
  {
   "cell_type": "code",
   "execution_count": 12,
   "metadata": {},
   "outputs": [],
   "source": [
    "data[\"male\"] = (data[\"Gender\"] == 2).astype(int)\n",
    "data[\"female\"] = (data[\"Gender\"] == 1).astype(int)\n",
    "data[\"no_spec_gender\"] = (data[\"Gender\"] == -1000).astype(int)\n",
    "data = data.drop(columns={\"Gender\"})"
   ]
  },
  {
   "cell_type": "code",
   "execution_count": 13,
   "metadata": {},
   "outputs": [
    {
     "data": {
      "text/plain": [
       "array(['Сл-сантехник', 'инженер ', 'Инженер-технолог', 'водитель',\n",
       "       'слесарь ', 'изолировщица', 'аппаратчик', 'тракторист',\n",
       "       'горничная', 'плавильщик', 'инженер', 'токарь ', 'внс',\n",
       "       'экономист ', 'нач группы ', 'нач сектора', 'гл инженер ',\n",
       "       'контролер КПП', 'нач-к ПРБ', 'УВОЛЕНА', 'диспетчер',\n",
       "       'оператор                    1962', 'вед,специалист',\n",
       "       'пригот-ль р-ров', 'ПЕНСИОНЕР', 'монтажник РЭА', 'техник',\n",
       "       'сборщик м-схем', 'наладчик', 'измеритель', 'машинист',\n",
       "       'инженер-прогр,', 'нач-к тех,бюро', 'нач-к группы',\n",
       "       'старший мастер', 'гальваник', nan, 'мастер отд работ1969',\n",
       "       'науч. сотр', 'эл. сварщик', 'фрезеровщик', 'изолировщик ',\n",
       "       'эл,сварщик', 'электромонтажник', 'дежурная', 'нач-к бюро ',\n",
       "       'нач-к сектора', 'маляр', 'маляр-штукатур', 'УВОЛЕН', 'мастер ',\n",
       "       'прессовщик', 'зам, нач-ка отд,', 'инженр', 'секретарь ',\n",
       "       'электрик'], dtype=object)"
      ]
     },
     "execution_count": 13,
     "metadata": {},
     "output_type": "execute_result"
    }
   ],
   "source": [
    "data[\"Profession\"].unique()\n",
    "# I'd have to fix some issues with data"
   ]
  },
  {
   "cell_type": "code",
   "execution_count": 14,
   "metadata": {},
   "outputs": [],
   "source": [
    "data[\"Profession\"].replace({\"инженер \" : \"инженер\", \"инженр\" : \"инженер\", \"мастер \" : \"мастер\"}, inplace=True)\n",
    "data[\"Profession\"].fillna(\"no_info\", inplace=True)"
   ]
  },
  {
   "cell_type": "raw",
   "metadata": {},
   "source": [
    "#i'll try to group jobs in certain specified types\n",
    "Пусть внс - ведущий научный сотрудник\n",
    "1) Работа руками: Сл-сантехник, слесарь, аппаратчик, токарь,👷,  приготовитель растворов, монтажник РЭА, эл. сварщик, фрезеровщик, изолировщик, эл,сварщик, электромонтажник, маляр, маляр-штукатур, прессовщик, электрик, водитель, изолировщица, аппаратчик, тракторист, плавильщик, техник, сборщик м-схем, машинист, гальваник, мастер отд работ1969, изолировщик, прессовщик\n",
    "2) Прислуга: горничная, контролер КПП, дежурная, секретарь, диспетче\n",
    "4) Мелкое руководство: нач группы, нач сектора, гл. инженер, нач. ПРБ, нач-к тех,бюро, нач-к группы, старший мастер, нач-к бюро, нач-к сектора, мастер, зам, нач-ка отд, , \n",
    "5) Научные специальности: внс, вед,специалист, науч. сотр, нач-к бюро, нач-к тех,бюро, экономист\n",
    "6) Инженерные специальности: инженер, инженер-технолог, гл. инженер, наладчик, измеритель, инженер-прогр, нач-к тех,бюро\n",
    "7) Данных нет: no_info, УВОЛЕН, УВОЛЕНА\n",
    "8) Пенсионер"
   ]
  },
  {
   "cell_type": "code",
   "execution_count": 15,
   "metadata": {},
   "outputs": [],
   "source": [
    "#laborers - ручная работа\n",
    "#servants - обсл. состав\n",
    "#leadership - управление\n",
    "#scientific - научные специальности, работа мозгом\n",
    "#engineering - инж. специальности\n",
    "#no_data - без инфы\n",
    "#retiree - пенсионер\n",
    "data['laborers'] = data['Profession'] == 'Сл-сантехник' \n",
    "data['laborers'] |=                    data['Profession'] == 'водитель' \n",
    "data['laborers'] |=                    data['Profession'] == 'слесарь ' \n",
    "data['laborers'] |=                    data['Profession'] == 'изолировщица' \n",
    "data['laborers'] |=                    data['Profession'] == 'аппаратчик' \n",
    "data['laborers'] |=                    data['Profession'] == 'тракторист' \n",
    "data['laborers'] |=                    data['Profession'] == 'плавильщик' \n",
    "data['laborers'] |=                    data['Profession'] == 'токарь ' \n",
    "data['laborers'] |=                    data['Profession'] == 'оператор                    1962' \n",
    "data['laborers'] |=                    data['Profession'] == 'пригот-ль р-ров' \n",
    "data['laborers'] |=                    data['Profession'] == 'монтажник РЭА' \n",
    "data['laborers'] |=                    data['Profession'] == 'техник' \n",
    "data['laborers'] |=                    data['Profession'] == 'сборщик м-схем'  \n",
    "data['laborers'] |=                    data['Profession'] == 'машинист' \n",
    "data['laborers'] |=                    data['Profession'] == 'старший мастер' \n",
    "data['laborers'] |=                    data['Profession'] == 'гальваник' \n",
    "data['laborers'] |=                    data['Profession'] == 'мастер отд работ1969' \n",
    "data['laborers'] |=                    data['Profession'] == 'эл. сварщик' \n",
    "data['laborers'] |=                    data['Profession'] == 'фрезеровщик' \n",
    "data['laborers'] |=                    data['Profession'] == 'изолировщик ' \n",
    "data['laborers'] |=                    data['Profession'] == 'эл,сварщик' \n",
    "data['laborers'] |=                    data['Profession'] == 'электромонтажник' \n",
    "data['laborers'] |=                    data['Profession'] == 'маляр' \n",
    "data['laborers'] |=                    data['Profession'] == 'маляр-штукатур' \n",
    "data['laborers'] |=                    data['Profession'] == 'мастер' \n",
    "data['laborers'] |=                    data['Profession'] == 'прессовщик'\n",
    "data['laborers'] |=                    data['Profession'] == 'электрик'\n",
    "\n",
    "data['servants'] = data['Profession'] == 'горничная' \n",
    "data['servants'] |=                    data['Profession'] == 'контролер КПП' \n",
    "data['servants'] |=                    data['Profession'] == 'диспетчер' \n",
    "data['servants'] |=                    data['Profession'] == 'дежурная' \n",
    "data['servants'] |=                    data['Profession'] == 'секретарь '\n",
    "\n",
    "data['leadership'] = data['Profession'] == 'нач группы ' \n",
    "data['leadership'] |=                     data['Profession'] == 'нач сектора' \n",
    "data['leadership'] |=                       data['Profession'] == 'гл инженер ' \n",
    "data['leadership'] |=                      data['Profession'] == 'нач-к ПРБ' \n",
    "data['leadership'] |=                      data['Profession'] == 'нач-к тех,бюро' \n",
    "data['leadership'] |=                      data['Profession'] == 'нач-к группы' \n",
    "data['leadership'] |=                      data['Profession'] == 'старший мастер' \n",
    "data['leadership'] |=                      data['Profession'] == 'нач-к бюро ' \n",
    "data['leadership'] |=                      data['Profession'] == 'нач-к сектора' \n",
    "data['leadership'] |=                      data['Profession'] == 'мастер'\n",
    "data['leadership'] |=                     data['Profession'] == 'зам, нач-ка отд,'\n",
    "\n",
    "data['scientific'] = data['Profession'] == 'внс' \n",
    "data['scientific'] |=                      data['Profession'] == 'вед,специалист'\n",
    "data['scientific'] |=                      data['Profession'] == 'науч. сотр'\n",
    "data['scientific'] |=                      data['Profession'] == 'нач-к тех,бюро'\n",
    "data['scientific'] |=                      data['Profession'] == 'нач-к бюро '\n",
    "data['scientific'] |=                      data['Profession'] == 'экономист '\n",
    "\n",
    "data['engineering'] = data['Profession'] == 'инженер'\n",
    "data['engineering'] |= data['Profession'] == 'Инженер-технолог' \n",
    "data['engineering'] |= data['Profession'] == 'гл инженер '\n",
    "data['engineering'] |= data['Profession'] == 'наладчик' \n",
    "data['engineering'] |= data['Profession'] == 'измеритель' \n",
    "data['engineering'] |= data['Profession'] == 'инженер-прогр,'\n",
    "data['engineering'] |= data['Profession'] == 'нач-к тех,бюро'\n",
    "\n",
    "data['no_job_data'] = data['Profession'] == 'no_info'\n",
    "data['no_job_data'] |= data['Profession'] == 'УВОЛЕНА'\n",
    "data['no_job_data'] |= data['Profession'] == 'УВОЛЕН'\n",
    "\n",
    "data['retiree'] = data['Profession'] == 'ПЕНСИОНЕР'"
   ]
  },
  {
   "cell_type": "code",
   "execution_count": 16,
   "metadata": {},
   "outputs": [],
   "source": [
    "data['laborers'] = data['laborers'].astype(int)\n",
    "data['servants'] = data['servants'].astype(int)\n",
    "data['leadership'] = data['leadership'].astype(int)\n",
    "data['scientific'] = data['scientific'].astype(int)\n",
    "data['engineering'] = data['engineering'].astype(int)\n",
    "data['no_job_data'] = data['no_job_data'].astype(int)\n",
    "data['retiree'] = data['retiree'].astype(int)"
   ]
  },
  {
   "cell_type": "code",
   "execution_count": 17,
   "metadata": {},
   "outputs": [
    {
     "data": {
      "text/html": [
       "<div>\n",
       "<style scoped>\n",
       "    .dataframe tbody tr th:only-of-type {\n",
       "        vertical-align: middle;\n",
       "    }\n",
       "\n",
       "    .dataframe tbody tr th {\n",
       "        vertical-align: top;\n",
       "    }\n",
       "\n",
       "    .dataframe thead th {\n",
       "        text-align: right;\n",
       "    }\n",
       "</style>\n",
       "<table border=\"1\" class=\"dataframe\">\n",
       "  <thead>\n",
       "    <tr style=\"text-align: right;\">\n",
       "      <th></th>\n",
       "      <th>Number</th>\n",
       "      <th>Profession</th>\n",
       "      <th>Birth_year</th>\n",
       "      <th>Глюкоза</th>\n",
       "      <th>Мочевина</th>\n",
       "      <th>Креатинин</th>\n",
       "      <th>Мочевая к-та</th>\n",
       "      <th>Холестерин</th>\n",
       "      <th>Х-ЛПВП</th>\n",
       "      <th>Х-ЛПНП</th>\n",
       "      <th>...</th>\n",
       "      <th>male</th>\n",
       "      <th>female</th>\n",
       "      <th>no_spec_gender</th>\n",
       "      <th>laborers</th>\n",
       "      <th>servants</th>\n",
       "      <th>leadership</th>\n",
       "      <th>scientific</th>\n",
       "      <th>engineering</th>\n",
       "      <th>no_job_data</th>\n",
       "      <th>retiree</th>\n",
       "    </tr>\n",
       "  </thead>\n",
       "  <tbody>\n",
       "    <tr>\n",
       "      <td>1</td>\n",
       "      <td>2.0</td>\n",
       "      <td>Сл-сантехник</td>\n",
       "      <td>1956.0</td>\n",
       "      <td>6.2</td>\n",
       "      <td>5.9</td>\n",
       "      <td>110</td>\n",
       "      <td>443</td>\n",
       "      <td>6.2</td>\n",
       "      <td>1.07</td>\n",
       "      <td>4.25</td>\n",
       "      <td>...</td>\n",
       "      <td>1</td>\n",
       "      <td>0</td>\n",
       "      <td>0</td>\n",
       "      <td>1</td>\n",
       "      <td>0</td>\n",
       "      <td>0</td>\n",
       "      <td>0</td>\n",
       "      <td>0</td>\n",
       "      <td>0</td>\n",
       "      <td>0</td>\n",
       "    </tr>\n",
       "    <tr>\n",
       "      <td>2</td>\n",
       "      <td>3.0</td>\n",
       "      <td>инженер</td>\n",
       "      <td>1962.0</td>\n",
       "      <td>5.2</td>\n",
       "      <td>5</td>\n",
       "      <td>72</td>\n",
       "      <td>164</td>\n",
       "      <td>5.5</td>\n",
       "      <td>2.27</td>\n",
       "      <td>3.39</td>\n",
       "      <td>...</td>\n",
       "      <td>0</td>\n",
       "      <td>1</td>\n",
       "      <td>0</td>\n",
       "      <td>0</td>\n",
       "      <td>0</td>\n",
       "      <td>0</td>\n",
       "      <td>0</td>\n",
       "      <td>1</td>\n",
       "      <td>0</td>\n",
       "      <td>0</td>\n",
       "    </tr>\n",
       "    <tr>\n",
       "      <td>3</td>\n",
       "      <td>4.0</td>\n",
       "      <td>Инженер-технолог</td>\n",
       "      <td>1962.0</td>\n",
       "      <td>5.1</td>\n",
       "      <td>5.8</td>\n",
       "      <td>85</td>\n",
       "      <td>345</td>\n",
       "      <td>6.6</td>\n",
       "      <td>2.1</td>\n",
       "      <td>4.14</td>\n",
       "      <td>...</td>\n",
       "      <td>0</td>\n",
       "      <td>0</td>\n",
       "      <td>1</td>\n",
       "      <td>0</td>\n",
       "      <td>0</td>\n",
       "      <td>0</td>\n",
       "      <td>0</td>\n",
       "      <td>1</td>\n",
       "      <td>0</td>\n",
       "      <td>0</td>\n",
       "    </tr>\n",
       "    <tr>\n",
       "      <td>4</td>\n",
       "      <td>5.0</td>\n",
       "      <td>водитель</td>\n",
       "      <td>1964.0</td>\n",
       "      <td>5.6</td>\n",
       "      <td>5.7</td>\n",
       "      <td>74</td>\n",
       "      <td>438</td>\n",
       "      <td>6.3</td>\n",
       "      <td>1.04</td>\n",
       "      <td>3.96</td>\n",
       "      <td>...</td>\n",
       "      <td>1</td>\n",
       "      <td>0</td>\n",
       "      <td>0</td>\n",
       "      <td>1</td>\n",
       "      <td>0</td>\n",
       "      <td>0</td>\n",
       "      <td>0</td>\n",
       "      <td>0</td>\n",
       "      <td>0</td>\n",
       "      <td>0</td>\n",
       "    </tr>\n",
       "    <tr>\n",
       "      <td>5</td>\n",
       "      <td>12.0</td>\n",
       "      <td>слесарь</td>\n",
       "      <td>1959.0</td>\n",
       "      <td>5.7</td>\n",
       "      <td>5.5</td>\n",
       "      <td>88</td>\n",
       "      <td>286</td>\n",
       "      <td>7.1</td>\n",
       "      <td>0.91</td>\n",
       "      <td>5.33</td>\n",
       "      <td>...</td>\n",
       "      <td>1</td>\n",
       "      <td>0</td>\n",
       "      <td>0</td>\n",
       "      <td>1</td>\n",
       "      <td>0</td>\n",
       "      <td>0</td>\n",
       "      <td>0</td>\n",
       "      <td>0</td>\n",
       "      <td>0</td>\n",
       "      <td>0</td>\n",
       "    </tr>\n",
       "    <tr>\n",
       "      <td>6</td>\n",
       "      <td>15.0</td>\n",
       "      <td>изолировщица</td>\n",
       "      <td>1966.0</td>\n",
       "      <td>11.7</td>\n",
       "      <td>3.2</td>\n",
       "      <td>66</td>\n",
       "      <td>434</td>\n",
       "      <td>6.8</td>\n",
       "      <td>0.92</td>\n",
       "      <td>4.59</td>\n",
       "      <td>...</td>\n",
       "      <td>0</td>\n",
       "      <td>1</td>\n",
       "      <td>0</td>\n",
       "      <td>1</td>\n",
       "      <td>0</td>\n",
       "      <td>0</td>\n",
       "      <td>0</td>\n",
       "      <td>0</td>\n",
       "      <td>0</td>\n",
       "      <td>0</td>\n",
       "    </tr>\n",
       "    <tr>\n",
       "      <td>7</td>\n",
       "      <td>16.0</td>\n",
       "      <td>аппаратчик</td>\n",
       "      <td>1974.0</td>\n",
       "      <td>5.4</td>\n",
       "      <td>3.8</td>\n",
       "      <td>105</td>\n",
       "      <td>437</td>\n",
       "      <td>6</td>\n",
       "      <td>1.64</td>\n",
       "      <td>3.5</td>\n",
       "      <td>...</td>\n",
       "      <td>0</td>\n",
       "      <td>0</td>\n",
       "      <td>1</td>\n",
       "      <td>1</td>\n",
       "      <td>0</td>\n",
       "      <td>0</td>\n",
       "      <td>0</td>\n",
       "      <td>0</td>\n",
       "      <td>0</td>\n",
       "      <td>0</td>\n",
       "    </tr>\n",
       "    <tr>\n",
       "      <td>8</td>\n",
       "      <td>20.0</td>\n",
       "      <td>слесарь</td>\n",
       "      <td>1962.0</td>\n",
       "      <td>7.1</td>\n",
       "      <td>5.3</td>\n",
       "      <td>93</td>\n",
       "      <td>478</td>\n",
       "      <td>4</td>\n",
       "      <td>0.53</td>\n",
       "      <td>1.73</td>\n",
       "      <td>...</td>\n",
       "      <td>0</td>\n",
       "      <td>0</td>\n",
       "      <td>1</td>\n",
       "      <td>1</td>\n",
       "      <td>0</td>\n",
       "      <td>0</td>\n",
       "      <td>0</td>\n",
       "      <td>0</td>\n",
       "      <td>0</td>\n",
       "      <td>0</td>\n",
       "    </tr>\n",
       "    <tr>\n",
       "      <td>9</td>\n",
       "      <td>22.0</td>\n",
       "      <td>тракторист</td>\n",
       "      <td>1968.0</td>\n",
       "      <td>7.3</td>\n",
       "      <td>5.2</td>\n",
       "      <td>73</td>\n",
       "      <td>409</td>\n",
       "      <td>5.4</td>\n",
       "      <td>1.38</td>\n",
       "      <td>3.8</td>\n",
       "      <td>...</td>\n",
       "      <td>0</td>\n",
       "      <td>0</td>\n",
       "      <td>1</td>\n",
       "      <td>1</td>\n",
       "      <td>0</td>\n",
       "      <td>0</td>\n",
       "      <td>0</td>\n",
       "      <td>0</td>\n",
       "      <td>0</td>\n",
       "      <td>0</td>\n",
       "    </tr>\n",
       "    <tr>\n",
       "      <td>10</td>\n",
       "      <td>25.0</td>\n",
       "      <td>горничная</td>\n",
       "      <td>1976.0</td>\n",
       "      <td>5.3</td>\n",
       "      <td>4</td>\n",
       "      <td>73</td>\n",
       "      <td>276</td>\n",
       "      <td>5.5</td>\n",
       "      <td>2.56</td>\n",
       "      <td>0.7</td>\n",
       "      <td>...</td>\n",
       "      <td>0</td>\n",
       "      <td>1</td>\n",
       "      <td>0</td>\n",
       "      <td>0</td>\n",
       "      <td>1</td>\n",
       "      <td>0</td>\n",
       "      <td>0</td>\n",
       "      <td>0</td>\n",
       "      <td>0</td>\n",
       "      <td>0</td>\n",
       "    </tr>\n",
       "  </tbody>\n",
       "</table>\n",
       "<p>10 rows × 45 columns</p>\n",
       "</div>"
      ],
      "text/plain": [
       "    Number        Profession  Birth_year Глюкоза Мочевина Креатинин  \\\n",
       "1      2.0      Сл-сантехник      1956.0     6.2      5.9       110   \n",
       "2      3.0           инженер      1962.0     5.2        5        72   \n",
       "3      4.0  Инженер-технолог      1962.0     5.1      5.8        85   \n",
       "4      5.0          водитель      1964.0     5.6      5.7        74   \n",
       "5     12.0          слесарь       1959.0     5.7      5.5        88   \n",
       "6     15.0      изолировщица      1966.0    11.7      3.2        66   \n",
       "7     16.0        аппаратчик      1974.0     5.4      3.8       105   \n",
       "8     20.0          слесарь       1962.0     7.1      5.3        93   \n",
       "9     22.0        тракторист      1968.0     7.3      5.2        73   \n",
       "10    25.0         горничная      1976.0     5.3        4        73   \n",
       "\n",
       "   Мочевая к-та Холестерин Х-ЛПВП Х-ЛПНП  ... male female no_spec_gender  \\\n",
       "1           443        6.2   1.07   4.25  ...    1      0              0   \n",
       "2           164        5.5   2.27   3.39  ...    0      1              0   \n",
       "3           345        6.6    2.1   4.14  ...    0      0              1   \n",
       "4           438        6.3   1.04   3.96  ...    1      0              0   \n",
       "5           286        7.1   0.91   5.33  ...    1      0              0   \n",
       "6           434        6.8   0.92   4.59  ...    0      1              0   \n",
       "7           437          6   1.64    3.5  ...    0      0              1   \n",
       "8           478          4   0.53   1.73  ...    0      0              1   \n",
       "9           409        5.4   1.38    3.8  ...    0      0              1   \n",
       "10          276        5.5   2.56    0.7  ...    0      1              0   \n",
       "\n",
       "   laborers servants leadership scientific engineering no_job_data retiree  \n",
       "1         1        0          0          0           0           0       0  \n",
       "2         0        0          0          0           1           0       0  \n",
       "3         0        0          0          0           1           0       0  \n",
       "4         1        0          0          0           0           0       0  \n",
       "5         1        0          0          0           0           0       0  \n",
       "6         1        0          0          0           0           0       0  \n",
       "7         1        0          0          0           0           0       0  \n",
       "8         1        0          0          0           0           0       0  \n",
       "9         1        0          0          0           0           0       0  \n",
       "10        0        1          0          0           0           0       0  \n",
       "\n",
       "[10 rows x 45 columns]"
      ]
     },
     "execution_count": 17,
     "metadata": {},
     "output_type": "execute_result"
    }
   ],
   "source": [
    "data.head(10)"
   ]
  },
  {
   "cell_type": "code",
   "execution_count": 18,
   "metadata": {},
   "outputs": [],
   "source": [
    "# okay, now we can drop Profession column\n",
    "data = data.drop(columns={'Profession'})"
   ]
  },
  {
   "cell_type": "code",
   "execution_count": 19,
   "metadata": {},
   "outputs": [
    {
     "data": {
      "text/html": [
       "<div>\n",
       "<style scoped>\n",
       "    .dataframe tbody tr th:only-of-type {\n",
       "        vertical-align: middle;\n",
       "    }\n",
       "\n",
       "    .dataframe tbody tr th {\n",
       "        vertical-align: top;\n",
       "    }\n",
       "\n",
       "    .dataframe thead th {\n",
       "        text-align: right;\n",
       "    }\n",
       "</style>\n",
       "<table border=\"1\" class=\"dataframe\">\n",
       "  <thead>\n",
       "    <tr style=\"text-align: right;\">\n",
       "      <th></th>\n",
       "      <th>Number</th>\n",
       "      <th>Birth_year</th>\n",
       "      <th>Глюкоза</th>\n",
       "      <th>Мочевина</th>\n",
       "      <th>Креатинин</th>\n",
       "      <th>Мочевая к-та</th>\n",
       "      <th>Холестерин</th>\n",
       "      <th>Х-ЛПВП</th>\n",
       "      <th>Х-ЛПНП</th>\n",
       "      <th>Триглицериды</th>\n",
       "      <th>...</th>\n",
       "      <th>male</th>\n",
       "      <th>female</th>\n",
       "      <th>no_spec_gender</th>\n",
       "      <th>laborers</th>\n",
       "      <th>servants</th>\n",
       "      <th>leadership</th>\n",
       "      <th>scientific</th>\n",
       "      <th>engineering</th>\n",
       "      <th>no_job_data</th>\n",
       "      <th>retiree</th>\n",
       "    </tr>\n",
       "  </thead>\n",
       "  <tbody>\n",
       "    <tr>\n",
       "      <td>1</td>\n",
       "      <td>2.0</td>\n",
       "      <td>1956.0</td>\n",
       "      <td>6.2</td>\n",
       "      <td>5.9</td>\n",
       "      <td>110</td>\n",
       "      <td>443</td>\n",
       "      <td>6.2</td>\n",
       "      <td>1.07</td>\n",
       "      <td>4.25</td>\n",
       "      <td>2.37</td>\n",
       "      <td>...</td>\n",
       "      <td>1</td>\n",
       "      <td>0</td>\n",
       "      <td>0</td>\n",
       "      <td>1</td>\n",
       "      <td>0</td>\n",
       "      <td>0</td>\n",
       "      <td>0</td>\n",
       "      <td>0</td>\n",
       "      <td>0</td>\n",
       "      <td>0</td>\n",
       "    </tr>\n",
       "  </tbody>\n",
       "</table>\n",
       "<p>1 rows × 44 columns</p>\n",
       "</div>"
      ],
      "text/plain": [
       "   Number  Birth_year Глюкоза Мочевина Креатинин Мочевая к-та Холестерин  \\\n",
       "1     2.0      1956.0     6.2      5.9       110          443        6.2   \n",
       "\n",
       "  Х-ЛПВП Х-ЛПНП Триглицериды  ... male female no_spec_gender laborers  \\\n",
       "1   1.07   4.25         2.37  ...    1      0              0        1   \n",
       "\n",
       "  servants leadership scientific engineering no_job_data retiree  \n",
       "1        0          0          0           0           0       0  \n",
       "\n",
       "[1 rows x 44 columns]"
      ]
     },
     "execution_count": 19,
     "metadata": {},
     "output_type": "execute_result"
    }
   ],
   "source": [
    "data.head(1)"
   ]
  },
  {
   "cell_type": "code",
   "execution_count": 20,
   "metadata": {},
   "outputs": [
    {
     "data": {
      "text/html": [
       "<div>\n",
       "<style scoped>\n",
       "    .dataframe tbody tr th:only-of-type {\n",
       "        vertical-align: middle;\n",
       "    }\n",
       "\n",
       "    .dataframe tbody tr th {\n",
       "        vertical-align: top;\n",
       "    }\n",
       "\n",
       "    .dataframe thead th {\n",
       "        text-align: right;\n",
       "    }\n",
       "</style>\n",
       "<table border=\"1\" class=\"dataframe\">\n",
       "  <thead>\n",
       "    <tr style=\"text-align: right;\">\n",
       "      <th></th>\n",
       "      <th>Number</th>\n",
       "      <th>Глюкоза</th>\n",
       "      <th>Мочевина</th>\n",
       "      <th>Креатинин</th>\n",
       "      <th>Мочевая к-та</th>\n",
       "      <th>Холестерин</th>\n",
       "      <th>Х-ЛПВП</th>\n",
       "      <th>Х-ЛПНП</th>\n",
       "      <th>Триглицериды</th>\n",
       "      <th>индекс массы тела</th>\n",
       "      <th>...</th>\n",
       "      <th>female</th>\n",
       "      <th>no_spec_gender</th>\n",
       "      <th>laborers</th>\n",
       "      <th>servants</th>\n",
       "      <th>leadership</th>\n",
       "      <th>scientific</th>\n",
       "      <th>engineering</th>\n",
       "      <th>no_job_data</th>\n",
       "      <th>retiree</th>\n",
       "      <th>age</th>\n",
       "    </tr>\n",
       "  </thead>\n",
       "  <tbody>\n",
       "    <tr>\n",
       "      <td>1</td>\n",
       "      <td>2.0</td>\n",
       "      <td>6.2</td>\n",
       "      <td>5.9</td>\n",
       "      <td>110</td>\n",
       "      <td>443</td>\n",
       "      <td>6.2</td>\n",
       "      <td>1.07</td>\n",
       "      <td>4.25</td>\n",
       "      <td>2.37</td>\n",
       "      <td>20</td>\n",
       "      <td>...</td>\n",
       "      <td>0</td>\n",
       "      <td>0</td>\n",
       "      <td>1</td>\n",
       "      <td>0</td>\n",
       "      <td>0</td>\n",
       "      <td>0</td>\n",
       "      <td>0</td>\n",
       "      <td>0</td>\n",
       "      <td>0</td>\n",
       "      <td>63.0</td>\n",
       "    </tr>\n",
       "  </tbody>\n",
       "</table>\n",
       "<p>1 rows × 44 columns</p>\n",
       "</div>"
      ],
      "text/plain": [
       "   Number Глюкоза Мочевина Креатинин Мочевая к-та Холестерин Х-ЛПВП Х-ЛПНП  \\\n",
       "1     2.0     6.2      5.9       110          443        6.2   1.07   4.25   \n",
       "\n",
       "  Триглицериды индекс массы тела  ... female no_spec_gender laborers servants  \\\n",
       "1         2.37                20  ...      0              0        1        0   \n",
       "\n",
       "  leadership scientific engineering no_job_data retiree   age  \n",
       "1          0          0           0           0       0  63.0  \n",
       "\n",
       "[1 rows x 44 columns]"
      ]
     },
     "execution_count": 20,
     "metadata": {},
     "output_type": "execute_result"
    }
   ],
   "source": [
    "# i'd better keep age parameter instead of Birth_year one, let's say this'd be up to 2019\n",
    "data[\"age\"] = 2019 - data[\"Birth_year\"]\n",
    "data = data.drop(columns = {'Birth_year'})\n",
    "data.head(1)"
   ]
  },
  {
   "cell_type": "code",
   "execution_count": 21,
   "metadata": {},
   "outputs": [
    {
     "data": {
      "text/html": [
       "<div>\n",
       "<style scoped>\n",
       "    .dataframe tbody tr th:only-of-type {\n",
       "        vertical-align: middle;\n",
       "    }\n",
       "\n",
       "    .dataframe tbody tr th {\n",
       "        vertical-align: top;\n",
       "    }\n",
       "\n",
       "    .dataframe thead th {\n",
       "        text-align: right;\n",
       "    }\n",
       "</style>\n",
       "<table border=\"1\" class=\"dataframe\">\n",
       "  <thead>\n",
       "    <tr style=\"text-align: right;\">\n",
       "      <th></th>\n",
       "      <th>Number</th>\n",
       "      <th>Глюкоза</th>\n",
       "      <th>Мочевина</th>\n",
       "      <th>Креатинин</th>\n",
       "      <th>Мочевая к-та</th>\n",
       "      <th>Холестерин</th>\n",
       "      <th>Х-ЛПВП</th>\n",
       "      <th>Х-ЛПНП</th>\n",
       "      <th>Триглицериды</th>\n",
       "      <th>индекс массы тела</th>\n",
       "      <th>...</th>\n",
       "      <th>female</th>\n",
       "      <th>no_spec_gender</th>\n",
       "      <th>laborers</th>\n",
       "      <th>servants</th>\n",
       "      <th>leadership</th>\n",
       "      <th>scientific</th>\n",
       "      <th>engineering</th>\n",
       "      <th>no_job_data</th>\n",
       "      <th>retiree</th>\n",
       "      <th>age</th>\n",
       "    </tr>\n",
       "  </thead>\n",
       "  <tbody>\n",
       "    <tr>\n",
       "      <td>1</td>\n",
       "      <td>2.0</td>\n",
       "      <td>6.2</td>\n",
       "      <td>5.9</td>\n",
       "      <td>110</td>\n",
       "      <td>443</td>\n",
       "      <td>6.2</td>\n",
       "      <td>1.07</td>\n",
       "      <td>4.25</td>\n",
       "      <td>2.37</td>\n",
       "      <td>20</td>\n",
       "      <td>...</td>\n",
       "      <td>0</td>\n",
       "      <td>0</td>\n",
       "      <td>1</td>\n",
       "      <td>0</td>\n",
       "      <td>0</td>\n",
       "      <td>0</td>\n",
       "      <td>0</td>\n",
       "      <td>0</td>\n",
       "      <td>0</td>\n",
       "      <td>63.0</td>\n",
       "    </tr>\n",
       "    <tr>\n",
       "      <td>2</td>\n",
       "      <td>3.0</td>\n",
       "      <td>5.2</td>\n",
       "      <td>5</td>\n",
       "      <td>72</td>\n",
       "      <td>164</td>\n",
       "      <td>5.5</td>\n",
       "      <td>2.27</td>\n",
       "      <td>3.39</td>\n",
       "      <td>0.64</td>\n",
       "      <td>20.69</td>\n",
       "      <td>...</td>\n",
       "      <td>1</td>\n",
       "      <td>0</td>\n",
       "      <td>0</td>\n",
       "      <td>0</td>\n",
       "      <td>0</td>\n",
       "      <td>0</td>\n",
       "      <td>1</td>\n",
       "      <td>0</td>\n",
       "      <td>0</td>\n",
       "      <td>57.0</td>\n",
       "    </tr>\n",
       "    <tr>\n",
       "      <td>3</td>\n",
       "      <td>4.0</td>\n",
       "      <td>5.1</td>\n",
       "      <td>5.8</td>\n",
       "      <td>85</td>\n",
       "      <td>345</td>\n",
       "      <td>6.6</td>\n",
       "      <td>2.1</td>\n",
       "      <td>4.14</td>\n",
       "      <td>0.36</td>\n",
       "      <td>30.47</td>\n",
       "      <td>...</td>\n",
       "      <td>0</td>\n",
       "      <td>1</td>\n",
       "      <td>0</td>\n",
       "      <td>0</td>\n",
       "      <td>0</td>\n",
       "      <td>0</td>\n",
       "      <td>1</td>\n",
       "      <td>0</td>\n",
       "      <td>0</td>\n",
       "      <td>57.0</td>\n",
       "    </tr>\n",
       "    <tr>\n",
       "      <td>4</td>\n",
       "      <td>5.0</td>\n",
       "      <td>5.6</td>\n",
       "      <td>5.7</td>\n",
       "      <td>74</td>\n",
       "      <td>438</td>\n",
       "      <td>6.3</td>\n",
       "      <td>1.04</td>\n",
       "      <td>3.96</td>\n",
       "      <td>3.38</td>\n",
       "      <td>31.8</td>\n",
       "      <td>...</td>\n",
       "      <td>0</td>\n",
       "      <td>0</td>\n",
       "      <td>1</td>\n",
       "      <td>0</td>\n",
       "      <td>0</td>\n",
       "      <td>0</td>\n",
       "      <td>0</td>\n",
       "      <td>0</td>\n",
       "      <td>0</td>\n",
       "      <td>55.0</td>\n",
       "    </tr>\n",
       "    <tr>\n",
       "      <td>5</td>\n",
       "      <td>12.0</td>\n",
       "      <td>5.7</td>\n",
       "      <td>5.5</td>\n",
       "      <td>88</td>\n",
       "      <td>286</td>\n",
       "      <td>7.1</td>\n",
       "      <td>0.91</td>\n",
       "      <td>5.33</td>\n",
       "      <td>1.8</td>\n",
       "      <td>26.5</td>\n",
       "      <td>...</td>\n",
       "      <td>0</td>\n",
       "      <td>0</td>\n",
       "      <td>1</td>\n",
       "      <td>0</td>\n",
       "      <td>0</td>\n",
       "      <td>0</td>\n",
       "      <td>0</td>\n",
       "      <td>0</td>\n",
       "      <td>0</td>\n",
       "      <td>60.0</td>\n",
       "    </tr>\n",
       "    <tr>\n",
       "      <td>6</td>\n",
       "      <td>15.0</td>\n",
       "      <td>11.7</td>\n",
       "      <td>3.2</td>\n",
       "      <td>66</td>\n",
       "      <td>434</td>\n",
       "      <td>6.8</td>\n",
       "      <td>0.92</td>\n",
       "      <td>4.59</td>\n",
       "      <td>4.65</td>\n",
       "      <td>40.2</td>\n",
       "      <td>...</td>\n",
       "      <td>1</td>\n",
       "      <td>0</td>\n",
       "      <td>1</td>\n",
       "      <td>0</td>\n",
       "      <td>0</td>\n",
       "      <td>0</td>\n",
       "      <td>0</td>\n",
       "      <td>0</td>\n",
       "      <td>0</td>\n",
       "      <td>53.0</td>\n",
       "    </tr>\n",
       "    <tr>\n",
       "      <td>7</td>\n",
       "      <td>16.0</td>\n",
       "      <td>5.4</td>\n",
       "      <td>3.8</td>\n",
       "      <td>105</td>\n",
       "      <td>437</td>\n",
       "      <td>6</td>\n",
       "      <td>1.64</td>\n",
       "      <td>3.5</td>\n",
       "      <td>1.7</td>\n",
       "      <td>23.9</td>\n",
       "      <td>...</td>\n",
       "      <td>0</td>\n",
       "      <td>1</td>\n",
       "      <td>1</td>\n",
       "      <td>0</td>\n",
       "      <td>0</td>\n",
       "      <td>0</td>\n",
       "      <td>0</td>\n",
       "      <td>0</td>\n",
       "      <td>0</td>\n",
       "      <td>45.0</td>\n",
       "    </tr>\n",
       "    <tr>\n",
       "      <td>8</td>\n",
       "      <td>20.0</td>\n",
       "      <td>7.1</td>\n",
       "      <td>5.3</td>\n",
       "      <td>93</td>\n",
       "      <td>478</td>\n",
       "      <td>4</td>\n",
       "      <td>0.53</td>\n",
       "      <td>1.73</td>\n",
       "      <td>4.41</td>\n",
       "      <td>41.03</td>\n",
       "      <td>...</td>\n",
       "      <td>0</td>\n",
       "      <td>1</td>\n",
       "      <td>1</td>\n",
       "      <td>0</td>\n",
       "      <td>0</td>\n",
       "      <td>0</td>\n",
       "      <td>0</td>\n",
       "      <td>0</td>\n",
       "      <td>0</td>\n",
       "      <td>57.0</td>\n",
       "    </tr>\n",
       "    <tr>\n",
       "      <td>9</td>\n",
       "      <td>22.0</td>\n",
       "      <td>7.3</td>\n",
       "      <td>5.2</td>\n",
       "      <td>73</td>\n",
       "      <td>409</td>\n",
       "      <td>5.4</td>\n",
       "      <td>1.38</td>\n",
       "      <td>3.8</td>\n",
       "      <td>0.66</td>\n",
       "      <td>32.5</td>\n",
       "      <td>...</td>\n",
       "      <td>0</td>\n",
       "      <td>1</td>\n",
       "      <td>1</td>\n",
       "      <td>0</td>\n",
       "      <td>0</td>\n",
       "      <td>0</td>\n",
       "      <td>0</td>\n",
       "      <td>0</td>\n",
       "      <td>0</td>\n",
       "      <td>51.0</td>\n",
       "    </tr>\n",
       "    <tr>\n",
       "      <td>10</td>\n",
       "      <td>25.0</td>\n",
       "      <td>5.3</td>\n",
       "      <td>4</td>\n",
       "      <td>73</td>\n",
       "      <td>276</td>\n",
       "      <td>5.5</td>\n",
       "      <td>2.56</td>\n",
       "      <td>0.7</td>\n",
       "      <td>0.59</td>\n",
       "      <td>21.5</td>\n",
       "      <td>...</td>\n",
       "      <td>1</td>\n",
       "      <td>0</td>\n",
       "      <td>0</td>\n",
       "      <td>1</td>\n",
       "      <td>0</td>\n",
       "      <td>0</td>\n",
       "      <td>0</td>\n",
       "      <td>0</td>\n",
       "      <td>0</td>\n",
       "      <td>43.0</td>\n",
       "    </tr>\n",
       "  </tbody>\n",
       "</table>\n",
       "<p>10 rows × 44 columns</p>\n",
       "</div>"
      ],
      "text/plain": [
       "    Number Глюкоза Мочевина Креатинин Мочевая к-та Холестерин Х-ЛПВП Х-ЛПНП  \\\n",
       "1      2.0     6.2      5.9       110          443        6.2   1.07   4.25   \n",
       "2      3.0     5.2        5        72          164        5.5   2.27   3.39   \n",
       "3      4.0     5.1      5.8        85          345        6.6    2.1   4.14   \n",
       "4      5.0     5.6      5.7        74          438        6.3   1.04   3.96   \n",
       "5     12.0     5.7      5.5        88          286        7.1   0.91   5.33   \n",
       "6     15.0    11.7      3.2        66          434        6.8   0.92   4.59   \n",
       "7     16.0     5.4      3.8       105          437          6   1.64    3.5   \n",
       "8     20.0     7.1      5.3        93          478          4   0.53   1.73   \n",
       "9     22.0     7.3      5.2        73          409        5.4   1.38    3.8   \n",
       "10    25.0     5.3        4        73          276        5.5   2.56    0.7   \n",
       "\n",
       "   Триглицериды индекс массы тела  ... female no_spec_gender laborers  \\\n",
       "1          2.37                20  ...      0              0        1   \n",
       "2          0.64             20.69  ...      1              0        0   \n",
       "3          0.36             30.47  ...      0              1        0   \n",
       "4          3.38              31.8  ...      0              0        1   \n",
       "5           1.8              26.5  ...      0              0        1   \n",
       "6          4.65              40.2  ...      1              0        1   \n",
       "7           1.7              23.9  ...      0              1        1   \n",
       "8          4.41             41.03  ...      0              1        1   \n",
       "9          0.66              32.5  ...      0              1        1   \n",
       "10         0.59              21.5  ...      1              0        0   \n",
       "\n",
       "   servants leadership scientific engineering no_job_data retiree   age  \n",
       "1         0          0          0           0           0       0  63.0  \n",
       "2         0          0          0           1           0       0  57.0  \n",
       "3         0          0          0           1           0       0  57.0  \n",
       "4         0          0          0           0           0       0  55.0  \n",
       "5         0          0          0           0           0       0  60.0  \n",
       "6         0          0          0           0           0       0  53.0  \n",
       "7         0          0          0           0           0       0  45.0  \n",
       "8         0          0          0           0           0       0  57.0  \n",
       "9         0          0          0           0           0       0  51.0  \n",
       "10        1          0          0           0           0       0  43.0  \n",
       "\n",
       "[10 rows x 44 columns]"
      ]
     },
     "execution_count": 21,
     "metadata": {},
     "output_type": "execute_result"
    }
   ],
   "source": [
    "data.head(10)"
   ]
  },
  {
   "cell_type": "code",
   "execution_count": 22,
   "metadata": {},
   "outputs": [],
   "source": [
    "data['ГЛЖ ин Соколова-Лайона'].replace({\"нет\" : np.NaN, \"да\" : np.NaN}, inplace = True)"
   ]
  },
  {
   "cell_type": "code",
   "execution_count": 23,
   "metadata": {},
   "outputs": [],
   "source": [
    "data.replace({\"нет\" : 0, \"да\" : 1, \"нет \" : 0, \"да \" : 1, \"не\" : 0}, inplace = True)"
   ]
  },
  {
   "cell_type": "code",
   "execution_count": 24,
   "metadata": {},
   "outputs": [
    {
     "data": {
      "text/html": [
       "<div>\n",
       "<style scoped>\n",
       "    .dataframe tbody tr th:only-of-type {\n",
       "        vertical-align: middle;\n",
       "    }\n",
       "\n",
       "    .dataframe tbody tr th {\n",
       "        vertical-align: top;\n",
       "    }\n",
       "\n",
       "    .dataframe thead th {\n",
       "        text-align: right;\n",
       "    }\n",
       "</style>\n",
       "<table border=\"1\" class=\"dataframe\">\n",
       "  <thead>\n",
       "    <tr style=\"text-align: right;\">\n",
       "      <th></th>\n",
       "      <th>Number</th>\n",
       "      <th>Глюкоза</th>\n",
       "      <th>Мочевина</th>\n",
       "      <th>Креатинин</th>\n",
       "      <th>Мочевая к-та</th>\n",
       "      <th>Холестерин</th>\n",
       "      <th>Х-ЛПВП</th>\n",
       "      <th>Х-ЛПНП</th>\n",
       "      <th>Триглицериды</th>\n",
       "      <th>индекс массы тела</th>\n",
       "      <th>...</th>\n",
       "      <th>female</th>\n",
       "      <th>no_spec_gender</th>\n",
       "      <th>laborers</th>\n",
       "      <th>servants</th>\n",
       "      <th>leadership</th>\n",
       "      <th>scientific</th>\n",
       "      <th>engineering</th>\n",
       "      <th>no_job_data</th>\n",
       "      <th>retiree</th>\n",
       "      <th>age</th>\n",
       "    </tr>\n",
       "  </thead>\n",
       "  <tbody>\n",
       "    <tr>\n",
       "      <td>1</td>\n",
       "      <td>2.0</td>\n",
       "      <td>6.2</td>\n",
       "      <td>5.9</td>\n",
       "      <td>110</td>\n",
       "      <td>443</td>\n",
       "      <td>6.2</td>\n",
       "      <td>1.07</td>\n",
       "      <td>4.25</td>\n",
       "      <td>2.37</td>\n",
       "      <td>20</td>\n",
       "      <td>...</td>\n",
       "      <td>0</td>\n",
       "      <td>0</td>\n",
       "      <td>1</td>\n",
       "      <td>0</td>\n",
       "      <td>0</td>\n",
       "      <td>0</td>\n",
       "      <td>0</td>\n",
       "      <td>0</td>\n",
       "      <td>0</td>\n",
       "      <td>63.0</td>\n",
       "    </tr>\n",
       "  </tbody>\n",
       "</table>\n",
       "<p>1 rows × 44 columns</p>\n",
       "</div>"
      ],
      "text/plain": [
       "   Number Глюкоза  Мочевина  Креатинин  Мочевая к-та  Холестерин  Х-ЛПВП  \\\n",
       "1     2.0     6.2       5.9        110           443         6.2    1.07   \n",
       "\n",
       "   Х-ЛПНП  Триглицериды индекс массы тела  ... female no_spec_gender  \\\n",
       "1    4.25          2.37                20  ...      0              0   \n",
       "\n",
       "   laborers servants  leadership  scientific  engineering  no_job_data  \\\n",
       "1         1        0           0           0            0            0   \n",
       "\n",
       "   retiree   age  \n",
       "1        0  63.0  \n",
       "\n",
       "[1 rows x 44 columns]"
      ]
     },
     "execution_count": 24,
     "metadata": {},
     "output_type": "execute_result"
    }
   ],
   "source": [
    "data.head(1)"
   ]
  },
  {
   "cell_type": "code",
   "execution_count": 25,
   "metadata": {},
   "outputs": [
    {
     "data": {
      "text/plain": [
       "Index(['Number', 'Глюкоза', 'Мочевина', 'Креатинин', 'Мочевая к-та',\n",
       "       'Холестерин', 'Х-ЛПВП', 'Х-ЛПНП', 'Триглицериды', 'индекс массы тела',\n",
       "       'курк\\ение', 'избыт, Потр, Алкоголя', 'и,п повар, Соли', 'гиподинамия',\n",
       "       'стресс', 'прием п\\щ контрац', 'насл отяг, По ГБ, ',\n",
       "       'насл отяг, По ССЗ', 'насл отяг, По СД', 'насл, Отяг по почечн, Заб',\n",
       "       'САД', 'ДАД', 'ГЛЖ ин Соколова-Лайона', 'S100b, нг/л (N до 90)',\n",
       "       'Анг II, пг/мл (N 10-60 пг/мл)', 'ЭТ, пмоль/л    (N =0,09)',\n",
       "       'VEGF,  пг/мл (N40-600)', 'HLDF (нг/мл', 'АТ к S100b', 'АТ к Анг  II ',\n",
       "       'АТ к ЭТ ', 'АТ к HLDF- 24', 'Unnamed: 35', 'male', 'female',\n",
       "       'no_spec_gender', 'laborers', 'servants', 'leadership', 'scientific',\n",
       "       'engineering', 'no_job_data', 'retiree', 'age'],\n",
       "      dtype='object')"
      ]
     },
     "execution_count": 25,
     "metadata": {},
     "output_type": "execute_result"
    }
   ],
   "source": [
    "data.columns"
   ]
  },
  {
   "cell_type": "code",
   "execution_count": 26,
   "metadata": {},
   "outputs": [],
   "source": [
    "data.rename(columns={'курк\\ение' : 'smoking', 'избыт, Потр, Алкоголя' : 'Alcoholic'}, inplace=True)"
   ]
  },
  {
   "cell_type": "code",
   "execution_count": 27,
   "metadata": {},
   "outputs": [
    {
     "data": {
      "text/plain": [
       "Index(['Number', 'Глюкоза', 'Мочевина', 'Креатинин', 'Мочевая к-та',\n",
       "       'Холестерин', 'Х-ЛПВП', 'Х-ЛПНП', 'Триглицериды', 'индекс массы тела',\n",
       "       'smoking', 'Alcoholic', 'и,п повар, Соли', 'гиподинамия', 'стресс',\n",
       "       'прием п\\щ контрац', 'насл отяг, По ГБ, ', 'насл отяг, По ССЗ',\n",
       "       'насл отяг, По СД', 'насл, Отяг по почечн, Заб', 'САД', 'ДАД',\n",
       "       'ГЛЖ ин Соколова-Лайона', 'S100b, нг/л (N до 90)',\n",
       "       'Анг II, пг/мл (N 10-60 пг/мл)', 'ЭТ, пмоль/л    (N =0,09)',\n",
       "       'VEGF,  пг/мл (N40-600)', 'HLDF (нг/мл', 'АТ к S100b', 'АТ к Анг  II ',\n",
       "       'АТ к ЭТ ', 'АТ к HLDF- 24', 'Unnamed: 35', 'male', 'female',\n",
       "       'no_spec_gender', 'laborers', 'servants', 'leadership', 'scientific',\n",
       "       'engineering', 'no_job_data', 'retiree', 'age'],\n",
       "      dtype='object')"
      ]
     },
     "execution_count": 27,
     "metadata": {},
     "output_type": "execute_result"
    }
   ],
   "source": [
    "data.columns"
   ]
  },
  {
   "cell_type": "code",
   "execution_count": 28,
   "metadata": {},
   "outputs": [
    {
     "data": {
      "text/plain": [
       "array([1, 0, 'нет нет'], dtype=object)"
      ]
     },
     "execution_count": 28,
     "metadata": {},
     "output_type": "execute_result"
    }
   ],
   "source": [
    "data['smoking'].unique()"
   ]
  },
  {
   "cell_type": "code",
   "execution_count": 29,
   "metadata": {},
   "outputs": [
    {
     "data": {
      "text/plain": [
       "(array([1, 0]), dtype('int64'))"
      ]
     },
     "execution_count": 29,
     "metadata": {},
     "output_type": "execute_result"
    }
   ],
   "source": [
    "data['smoking'].replace({'нет нет' : 0}, inplace = True)\n",
    "data['smoking'].unique(), data['smoking'].dtype"
   ]
  },
  {
   "cell_type": "code",
   "execution_count": 30,
   "metadata": {},
   "outputs": [
    {
     "data": {
      "text/plain": [
       "array([0, 'нет нет нет нет нет ', 1, 'нет  нет нет'], dtype=object)"
      ]
     },
     "execution_count": 30,
     "metadata": {},
     "output_type": "execute_result"
    }
   ],
   "source": [
    "data['Alcoholic'].unique()"
   ]
  },
  {
   "cell_type": "code",
   "execution_count": 31,
   "metadata": {},
   "outputs": [
    {
     "data": {
      "text/plain": [
       "(array([0, 1]), dtype('int64'))"
      ]
     },
     "execution_count": 31,
     "metadata": {},
     "output_type": "execute_result"
    }
   ],
   "source": [
    "data['Alcoholic'].replace({'нет нет нет нет нет ' : 0, \"нет  нет нет\" : 0}, inplace = True)\n",
    "data['Alcoholic'].unique(), data['Alcoholic'].dtype"
   ]
  },
  {
   "cell_type": "code",
   "execution_count": 32,
   "metadata": {},
   "outputs": [
    {
     "data": {
      "text/plain": [
       "array([0, 1])"
      ]
     },
     "execution_count": 32,
     "metadata": {},
     "output_type": "execute_result"
    }
   ],
   "source": [
    "data.rename(columns={'и,п повар, Соли' : 'excess_salt_intake'}, inplace = True)\n",
    "data['excess_salt_intake'].unique()"
   ]
  },
  {
   "cell_type": "code",
   "execution_count": 33,
   "metadata": {},
   "outputs": [
    {
     "data": {
      "text/plain": [
       "array([0, 1, 'нетт'], dtype=object)"
      ]
     },
     "execution_count": 33,
     "metadata": {},
     "output_type": "execute_result"
    }
   ],
   "source": [
    "data['гиподинамия'].unique()"
   ]
  },
  {
   "cell_type": "code",
   "execution_count": 34,
   "metadata": {},
   "outputs": [
    {
     "data": {
      "text/plain": [
       "(array([0, 1]), dtype('int64'))"
      ]
     },
     "execution_count": 34,
     "metadata": {},
     "output_type": "execute_result"
    }
   ],
   "source": [
    "data['гиподинамия'].replace({'нетт' : 0}, inplace = True)\n",
    "data[\"гиподинамия\"].unique(), data['гиподинамия'].dtype"
   ]
  },
  {
   "cell_type": "code",
   "execution_count": 35,
   "metadata": {},
   "outputs": [
    {
     "data": {
      "text/plain": [
       "array([0, 1])"
      ]
     },
     "execution_count": 35,
     "metadata": {},
     "output_type": "execute_result"
    }
   ],
   "source": [
    "data['стресс'].unique()"
   ]
  },
  {
   "cell_type": "code",
   "execution_count": 36,
   "metadata": {},
   "outputs": [
    {
     "data": {
      "text/plain": [
       "array([0, 1])"
      ]
     },
     "execution_count": 36,
     "metadata": {},
     "output_type": "execute_result"
    }
   ],
   "source": [
    "data['прием п\\щ контрац'].unique()"
   ]
  },
  {
   "cell_type": "code",
   "execution_count": 37,
   "metadata": {},
   "outputs": [
    {
     "data": {
      "text/plain": [
       "array([0, 1])"
      ]
     },
     "execution_count": 37,
     "metadata": {},
     "output_type": "execute_result"
    }
   ],
   "source": [
    "data['насл отяг, По ГБ, '].unique()"
   ]
  },
  {
   "cell_type": "code",
   "execution_count": 38,
   "metadata": {},
   "outputs": [
    {
     "data": {
      "text/plain": [
       "array([0, 1])"
      ]
     },
     "execution_count": 38,
     "metadata": {},
     "output_type": "execute_result"
    }
   ],
   "source": [
    "data['насл отяг, По ССЗ'].unique()"
   ]
  },
  {
   "cell_type": "code",
   "execution_count": 39,
   "metadata": {},
   "outputs": [
    {
     "data": {
      "text/plain": [
       "array([0, 1])"
      ]
     },
     "execution_count": 39,
     "metadata": {},
     "output_type": "execute_result"
    }
   ],
   "source": [
    "data['насл отяг, По СД'].unique()"
   ]
  },
  {
   "cell_type": "code",
   "execution_count": 40,
   "metadata": {},
   "outputs": [
    {
     "data": {
      "text/plain": [
       "array([0, 1])"
      ]
     },
     "execution_count": 40,
     "metadata": {},
     "output_type": "execute_result"
    }
   ],
   "source": [
    "data['насл, Отяг по почечн, Заб'].unique()"
   ]
  },
  {
   "cell_type": "code",
   "execution_count": 41,
   "metadata": {},
   "outputs": [
    {
     "data": {
      "text/plain": [
       "array([nan, 22., 14., 18., 24., 25., 27., 35., 30., 26., 28., 23., 29.,\n",
       "       32., 38., 34., 37., 20., 11., 17., 39., 36., 33.])"
      ]
     },
     "execution_count": 41,
     "metadata": {},
     "output_type": "execute_result"
    }
   ],
   "source": [
    "data['ГЛЖ ин Соколова-Лайона'].unique()"
   ]
  },
  {
   "cell_type": "code",
   "execution_count": 42,
   "metadata": {},
   "outputs": [
    {
     "data": {
      "text/plain": [
       "array([6.2, 5.2, 5.1, 5.6, 5.7, 11.7, 5.4, 7.1, 7.3, 5.3, 5.9, 6.1, 6.7,\n",
       "       4.9, 10.3, 6.6, 4.8, 6, 5, 'уволил', 7.6, 4.3, 5.5, 6.9, 4.5, 5.8,\n",
       "       14.8, 15.8, 6.4, 6.3, 8.5, 12.5], dtype=object)"
      ]
     },
     "execution_count": 42,
     "metadata": {},
     "output_type": "execute_result"
    }
   ],
   "source": [
    "data['Глюкоза'].unique()"
   ]
  },
  {
   "cell_type": "code",
   "execution_count": 43,
   "metadata": {},
   "outputs": [],
   "source": [
    "sub_data = data['Глюкоза']"
   ]
  },
  {
   "cell_type": "code",
   "execution_count": 44,
   "metadata": {},
   "outputs": [],
   "source": [
    "sub_data.replace({'уволил' : np.NaN}, inplace = True)"
   ]
  },
  {
   "cell_type": "code",
   "execution_count": 45,
   "metadata": {},
   "outputs": [
    {
     "data": {
      "text/plain": [
       "array([ 6.2,  5.2,  5.1,  5.6,  5.7, 11.7,  5.4,  7.1,  7.3,  5.3,  5.9,\n",
       "        6.1,  6.7,  4.9, 10.3,  6.6,  4.8,  6. ,  5. ,  nan,  7.6,  4.3,\n",
       "        5.5,  6.9,  4.5,  5.8, 14.8, 15.8,  6.4,  6.3,  8.5, 12.5])"
      ]
     },
     "execution_count": 45,
     "metadata": {},
     "output_type": "execute_result"
    }
   ],
   "source": [
    "sub_data.unique()"
   ]
  },
  {
   "cell_type": "code",
   "execution_count": 46,
   "metadata": {},
   "outputs": [],
   "source": [
    "sd_mean = sub_data.mean()"
   ]
  },
  {
   "cell_type": "code",
   "execution_count": 47,
   "metadata": {},
   "outputs": [],
   "source": [
    "data['Глюкоза'].fillna(sd_mean, inplace = True)"
   ]
  },
  {
   "cell_type": "code",
   "execution_count": 48,
   "metadata": {},
   "outputs": [
    {
     "data": {
      "text/plain": [
       "array([ 6.2       ,  5.2       ,  5.1       ,  5.6       ,  5.7       ,\n",
       "       11.7       ,  5.4       ,  7.1       ,  7.3       ,  5.3       ,\n",
       "        5.9       ,  6.1       ,  6.7       ,  4.9       , 10.3       ,\n",
       "        6.6       ,  4.8       ,  6.        ,  5.        ,  5.99210526,\n",
       "        7.6       ,  4.3       ,  5.5       ,  6.9       ,  4.5       ,\n",
       "        5.8       , 14.8       , 15.8       ,  6.4       ,  6.3       ,\n",
       "        8.5       , 12.5       ])"
      ]
     },
     "execution_count": 48,
     "metadata": {},
     "output_type": "execute_result"
    }
   ],
   "source": [
    "data['Глюкоза'].unique()"
   ]
  },
  {
   "cell_type": "code",
   "execution_count": 49,
   "metadata": {},
   "outputs": [
    {
     "data": {
      "text/html": [
       "<div>\n",
       "<style scoped>\n",
       "    .dataframe tbody tr th:only-of-type {\n",
       "        vertical-align: middle;\n",
       "    }\n",
       "\n",
       "    .dataframe tbody tr th {\n",
       "        vertical-align: top;\n",
       "    }\n",
       "\n",
       "    .dataframe thead th {\n",
       "        text-align: right;\n",
       "    }\n",
       "</style>\n",
       "<table border=\"1\" class=\"dataframe\">\n",
       "  <thead>\n",
       "    <tr style=\"text-align: right;\">\n",
       "      <th></th>\n",
       "      <th>Number</th>\n",
       "      <th>Глюкоза</th>\n",
       "      <th>Мочевина</th>\n",
       "      <th>Креатинин</th>\n",
       "      <th>Мочевая к-та</th>\n",
       "      <th>Холестерин</th>\n",
       "      <th>Х-ЛПВП</th>\n",
       "      <th>Х-ЛПНП</th>\n",
       "      <th>Триглицериды</th>\n",
       "      <th>индекс массы тела</th>\n",
       "      <th>...</th>\n",
       "      <th>female</th>\n",
       "      <th>no_spec_gender</th>\n",
       "      <th>laborers</th>\n",
       "      <th>servants</th>\n",
       "      <th>leadership</th>\n",
       "      <th>scientific</th>\n",
       "      <th>engineering</th>\n",
       "      <th>no_job_data</th>\n",
       "      <th>retiree</th>\n",
       "      <th>age</th>\n",
       "    </tr>\n",
       "  </thead>\n",
       "  <tbody>\n",
       "    <tr>\n",
       "      <td>1</td>\n",
       "      <td>2.0</td>\n",
       "      <td>6.2</td>\n",
       "      <td>5.9</td>\n",
       "      <td>110</td>\n",
       "      <td>443</td>\n",
       "      <td>6.2</td>\n",
       "      <td>1.07</td>\n",
       "      <td>4.25</td>\n",
       "      <td>2.37</td>\n",
       "      <td>20</td>\n",
       "      <td>...</td>\n",
       "      <td>0</td>\n",
       "      <td>0</td>\n",
       "      <td>1</td>\n",
       "      <td>0</td>\n",
       "      <td>0</td>\n",
       "      <td>0</td>\n",
       "      <td>0</td>\n",
       "      <td>0</td>\n",
       "      <td>0</td>\n",
       "      <td>63.0</td>\n",
       "    </tr>\n",
       "    <tr>\n",
       "      <td>2</td>\n",
       "      <td>3.0</td>\n",
       "      <td>5.2</td>\n",
       "      <td>5.0</td>\n",
       "      <td>72</td>\n",
       "      <td>164</td>\n",
       "      <td>5.5</td>\n",
       "      <td>2.27</td>\n",
       "      <td>3.39</td>\n",
       "      <td>0.64</td>\n",
       "      <td>20.69</td>\n",
       "      <td>...</td>\n",
       "      <td>1</td>\n",
       "      <td>0</td>\n",
       "      <td>0</td>\n",
       "      <td>0</td>\n",
       "      <td>0</td>\n",
       "      <td>0</td>\n",
       "      <td>1</td>\n",
       "      <td>0</td>\n",
       "      <td>0</td>\n",
       "      <td>57.0</td>\n",
       "    </tr>\n",
       "    <tr>\n",
       "      <td>3</td>\n",
       "      <td>4.0</td>\n",
       "      <td>5.1</td>\n",
       "      <td>5.8</td>\n",
       "      <td>85</td>\n",
       "      <td>345</td>\n",
       "      <td>6.6</td>\n",
       "      <td>2.10</td>\n",
       "      <td>4.14</td>\n",
       "      <td>0.36</td>\n",
       "      <td>30.47</td>\n",
       "      <td>...</td>\n",
       "      <td>0</td>\n",
       "      <td>1</td>\n",
       "      <td>0</td>\n",
       "      <td>0</td>\n",
       "      <td>0</td>\n",
       "      <td>0</td>\n",
       "      <td>1</td>\n",
       "      <td>0</td>\n",
       "      <td>0</td>\n",
       "      <td>57.0</td>\n",
       "    </tr>\n",
       "    <tr>\n",
       "      <td>4</td>\n",
       "      <td>5.0</td>\n",
       "      <td>5.6</td>\n",
       "      <td>5.7</td>\n",
       "      <td>74</td>\n",
       "      <td>438</td>\n",
       "      <td>6.3</td>\n",
       "      <td>1.04</td>\n",
       "      <td>3.96</td>\n",
       "      <td>3.38</td>\n",
       "      <td>31.8</td>\n",
       "      <td>...</td>\n",
       "      <td>0</td>\n",
       "      <td>0</td>\n",
       "      <td>1</td>\n",
       "      <td>0</td>\n",
       "      <td>0</td>\n",
       "      <td>0</td>\n",
       "      <td>0</td>\n",
       "      <td>0</td>\n",
       "      <td>0</td>\n",
       "      <td>55.0</td>\n",
       "    </tr>\n",
       "    <tr>\n",
       "      <td>5</td>\n",
       "      <td>12.0</td>\n",
       "      <td>5.7</td>\n",
       "      <td>5.5</td>\n",
       "      <td>88</td>\n",
       "      <td>286</td>\n",
       "      <td>7.1</td>\n",
       "      <td>0.91</td>\n",
       "      <td>5.33</td>\n",
       "      <td>1.80</td>\n",
       "      <td>26.5</td>\n",
       "      <td>...</td>\n",
       "      <td>0</td>\n",
       "      <td>0</td>\n",
       "      <td>1</td>\n",
       "      <td>0</td>\n",
       "      <td>0</td>\n",
       "      <td>0</td>\n",
       "      <td>0</td>\n",
       "      <td>0</td>\n",
       "      <td>0</td>\n",
       "      <td>60.0</td>\n",
       "    </tr>\n",
       "  </tbody>\n",
       "</table>\n",
       "<p>5 rows × 44 columns</p>\n",
       "</div>"
      ],
      "text/plain": [
       "   Number  Глюкоза  Мочевина  Креатинин  Мочевая к-та  Холестерин  Х-ЛПВП  \\\n",
       "1     2.0      6.2       5.9        110           443         6.2    1.07   \n",
       "2     3.0      5.2       5.0         72           164         5.5    2.27   \n",
       "3     4.0      5.1       5.8         85           345         6.6    2.10   \n",
       "4     5.0      5.6       5.7         74           438         6.3    1.04   \n",
       "5    12.0      5.7       5.5         88           286         7.1    0.91   \n",
       "\n",
       "   Х-ЛПНП  Триглицериды индекс массы тела  ...  female  no_spec_gender  \\\n",
       "1    4.25          2.37                20  ...       0               0   \n",
       "2    3.39          0.64             20.69  ...       1               0   \n",
       "3    4.14          0.36             30.47  ...       0               1   \n",
       "4    3.96          3.38              31.8  ...       0               0   \n",
       "5    5.33          1.80              26.5  ...       0               0   \n",
       "\n",
       "   laborers  servants  leadership  scientific  engineering  no_job_data  \\\n",
       "1         1         0           0           0            0            0   \n",
       "2         0         0           0           0            1            0   \n",
       "3         0         0           0           0            1            0   \n",
       "4         1         0           0           0            0            0   \n",
       "5         1         0           0           0            0            0   \n",
       "\n",
       "   retiree   age  \n",
       "1        0  63.0  \n",
       "2        0  57.0  \n",
       "3        0  57.0  \n",
       "4        0  55.0  \n",
       "5        0  60.0  \n",
       "\n",
       "[5 rows x 44 columns]"
      ]
     },
     "execution_count": 49,
     "metadata": {},
     "output_type": "execute_result"
    }
   ],
   "source": [
    "data.head(5)"
   ]
  },
  {
   "cell_type": "code",
   "execution_count": 50,
   "metadata": {},
   "outputs": [],
   "source": [
    "data.rename(columns = {'Unnamed: 35' : 'target'}, inplace = True)"
   ]
  },
  {
   "cell_type": "code",
   "execution_count": 51,
   "metadata": {},
   "outputs": [
    {
     "data": {
      "text/plain": [
       "array([nan, 65.48, 80.17, 91.13, 120.7, 109.9, 88.01, 30.16, 60.97, 126.5,\n",
       "       127.9, 28.56, 44.22, 97.85, 60.57, 35.71, 46.01, 66.91, 106.5,\n",
       "       68.05, 32.28, 70.79, 30.11, 46.03, 27.35,\n",
       "       'ИНФАРКТ МОЗГА В 2018 ГОДУ', 79.02, 81.96, 47.16, 97.64, 83.72,\n",
       "       84.27, 43.62, 62.78, 116.6, 25.48, 92.44, 38.36, 36.72, 47.68, 545,\n",
       "       37.35, 84.98, 81.57, 91.92, 69.45, 48.29, 90.84, 38.63, 62.43,\n",
       "       98.91, 52.85, 34.72, 78.62, 27.49, 41.32, 42.42, 40.29],\n",
       "      dtype=object)"
      ]
     },
     "execution_count": 51,
     "metadata": {},
     "output_type": "execute_result"
    }
   ],
   "source": [
    "data['S100b, нг/л (N до 90)'].unique()"
   ]
  },
  {
   "cell_type": "raw",
   "metadata": {},
   "source": [
    "Я не понял, что делать с \"ИНФАРКТ МОЗГА, я, наверное, просто дропну его"
   ]
  },
  {
   "cell_type": "code",
   "execution_count": 52,
   "metadata": {},
   "outputs": [],
   "source": [
    "data['S100b, нг/л (N до 90)'].replace({'ИНФАРКТ МОЗГА В 2018 ГОДУ' : np.NaN}, inplace = True)"
   ]
  },
  {
   "cell_type": "code",
   "execution_count": 53,
   "metadata": {},
   "outputs": [
    {
     "data": {
      "text/plain": [
       "Number                           float64\n",
       "Глюкоза                          float64\n",
       "Мочевина                         float64\n",
       "Креатинин                          int64\n",
       "Мочевая к-та                       int64\n",
       "Холестерин                       float64\n",
       "Х-ЛПВП                           float64\n",
       "Х-ЛПНП                           float64\n",
       "Триглицериды                     float64\n",
       "индекс массы тела                 object\n",
       "smoking                            int64\n",
       "Alcoholic                          int64\n",
       "excess_salt_intake                 int64\n",
       "гиподинамия                        int64\n",
       "стресс                             int64\n",
       "прием п\\щ контрац                  int64\n",
       "насл отяг, По ГБ,                  int64\n",
       "насл отяг, По ССЗ                  int64\n",
       "насл отяг, По СД                   int64\n",
       "насл, Отяг по почечн, Заб          int64\n",
       "САД                              float64\n",
       "ДАД                              float64\n",
       "ГЛЖ ин Соколова-Лайона           float64\n",
       "S100b, нг/л (N до 90)            float64\n",
       "Анг II, пг/мл (N 10-60 пг/мл)    float64\n",
       "ЭТ, пмоль/л    (N =0,09)         float64\n",
       "VEGF,  пг/мл (N40-600)           float64\n",
       "HLDF (нг/мл                      float64\n",
       "АТ к S100b                       float64\n",
       "АТ к Анг  II                     float64\n",
       "АТ к ЭТ                          float64\n",
       "АТ к HLDF- 24                    float64\n",
       "target                            object\n",
       "male                               int64\n",
       "female                             int64\n",
       "no_spec_gender                     int64\n",
       "laborers                           int64\n",
       "servants                           int64\n",
       "leadership                         int64\n",
       "scientific                         int64\n",
       "engineering                        int64\n",
       "no_job_data                        int64\n",
       "retiree                            int64\n",
       "age                              float64\n",
       "dtype: object"
      ]
     },
     "execution_count": 53,
     "metadata": {},
     "output_type": "execute_result"
    }
   ],
   "source": [
    "data.dtypes\n",
    "# I also have to check ИМТ"
   ]
  },
  {
   "cell_type": "code",
   "execution_count": 54,
   "metadata": {},
   "outputs": [
    {
     "data": {
      "text/plain": [
       "array([20, 20.69, 30.47, 31.8, 26.5, 40.2, 23.9, 41.03, 32.5, 21.5, 30.07,\n",
       "       24.15, 29.32, 26.64, 25.47, 31.05, 21.01, 18.44, 19.89, 22.86,\n",
       "       31.56, 25.5, 27.89, 29.4, 17.65, 29.05, 23.08, 45.3, 38.37, 23.12,\n",
       "       25.46, 29.04, 24.68, 28.93, 27.14, 23.67, 29.31, 29.17, 27.44,\n",
       "       26.22, 23.31, 27.66, 25.28, 23.44, '21, 08', 21.88, '26, 47', 24.8,\n",
       "       18.78, 34.05, 20.28, 32, 48.33, 32.27, 21.64, 28.4, 27.87, 24.1,\n",
       "       29.58, 33.08, 43.7, 28.08, 26.47, 22.84, 25.53, 23.14, 23.23, 22.3,\n",
       "       40.16, 35.8, 26.85, 33.02, 23.05, 28.03, 28.41, 27.04, 38.74,\n",
       "       28.34, 29.68, 24.6, 29.76, 27.68, 27.97, 27.12, 33.21, 39.92,\n",
       "       25.16, 33.39, 31.23, '25, 04', 34.21, 49.08, 23.66, 24.16, 23.42,\n",
       "       32.18, 25.84, 32.6, 26.9, 24.22, 22.34, 24.45, 27.24, 31.14, 22.03,\n",
       "       36.06, 22.92, 24.54, 23.72, 29.07, 33.75, 19.14, 30.86, 27.09,\n",
       "       25.03], dtype=object)"
      ]
     },
     "execution_count": 54,
     "metadata": {},
     "output_type": "execute_result"
    }
   ],
   "source": [
    "data['индекс массы тела'].unique()\n",
    "# I see objects which are added incorrectly"
   ]
  },
  {
   "cell_type": "code",
   "execution_count": 55,
   "metadata": {},
   "outputs": [],
   "source": [
    "help_array = np.empty(len(data))"
   ]
  },
  {
   "cell_type": "code",
   "execution_count": 56,
   "metadata": {},
   "outputs": [
    {
     "name": "stdout",
     "output_type": "stream",
     "text": [
      "21.08 <class 'float'>\n",
      "26.47 <class 'float'>\n",
      "25.04 <class 'float'>\n"
     ]
    }
   ],
   "source": [
    "for enum, item in enumerate(data['индекс массы тела']):\n",
    "    if type(item) == str:\n",
    "        sub_str = item[0:2] + \".\" + item[4:]\n",
    "        sub_float = float(sub_str)\n",
    "        print(sub_float, type(sub_float))\n",
    "        help_array[enum] = sub_float\n",
    "        \n",
    "    else:\n",
    "        help_array[enum] = item"
   ]
  },
  {
   "cell_type": "code",
   "execution_count": 57,
   "metadata": {},
   "outputs": [
    {
     "data": {
      "text/plain": [
       "array([20.  , 20.69, 30.47, 31.8 , 26.5 , 40.2 , 23.9 , 41.03, 32.5 ,\n",
       "       21.5 , 30.07, 24.15, 29.32, 26.64, 25.47, 31.05, 21.01, 18.44,\n",
       "       19.89, 22.86, 31.56, 25.5 , 27.89, 29.4 , 17.65, 29.05, 23.08,\n",
       "       45.3 , 38.37, 23.12, 25.46, 29.04, 24.68, 28.93, 27.14, 23.67,\n",
       "       29.31, 29.17, 27.44, 26.22, 23.31, 27.66, 25.28, 23.44, 21.08,\n",
       "       21.88, 26.47, 24.8 , 18.78, 34.05, 20.28, 32.  , 48.33, 32.27,\n",
       "       21.64, 28.4 , 27.87, 24.1 , 29.58, 33.08, 43.7 , 28.08, 26.47,\n",
       "       22.84, 25.53, 23.14, 23.23, 22.3 , 40.16, 35.8 , 26.85, 33.02,\n",
       "       23.05, 28.03, 28.41, 27.04, 38.74, 28.34, 29.68, 24.6 , 29.76,\n",
       "       27.68, 27.97, 27.12, 33.21, 39.92, 25.16, 33.39, 31.23, 25.04,\n",
       "       34.21, 49.08, 23.66, 24.16, 23.42, 32.18, 25.84, 32.6 , 26.9 ,\n",
       "       24.22, 28.34, 22.34, 24.45, 27.24, 31.14, 22.03, 36.06, 22.92,\n",
       "       24.54, 23.72, 29.07, 33.75, 26.47, 19.14, 30.86, 27.09, 25.03])"
      ]
     },
     "execution_count": 57,
     "metadata": {},
     "output_type": "execute_result"
    }
   ],
   "source": [
    "help_array"
   ]
  },
  {
   "cell_type": "code",
   "execution_count": 58,
   "metadata": {},
   "outputs": [],
   "source": [
    "data['индекс массы тела'] = help_array"
   ]
  },
  {
   "cell_type": "code",
   "execution_count": 59,
   "metadata": {},
   "outputs": [
    {
     "data": {
      "text/plain": [
       "array([0, 'о', 'п'], dtype=object)"
      ]
     },
     "execution_count": 59,
     "metadata": {},
     "output_type": "execute_result"
    }
   ],
   "source": [
    "data['target'].unique()"
   ]
  },
  {
   "cell_type": "code",
   "execution_count": 60,
   "metadata": {},
   "outputs": [],
   "source": [
    "sub_data = pd.DataFrame.copy(data)"
   ]
  },
  {
   "cell_type": "code",
   "execution_count": 61,
   "metadata": {},
   "outputs": [
    {
     "data": {
      "text/html": [
       "<div>\n",
       "<style scoped>\n",
       "    .dataframe tbody tr th:only-of-type {\n",
       "        vertical-align: middle;\n",
       "    }\n",
       "\n",
       "    .dataframe tbody tr th {\n",
       "        vertical-align: top;\n",
       "    }\n",
       "\n",
       "    .dataframe thead th {\n",
       "        text-align: right;\n",
       "    }\n",
       "</style>\n",
       "<table border=\"1\" class=\"dataframe\">\n",
       "  <thead>\n",
       "    <tr style=\"text-align: right;\">\n",
       "      <th></th>\n",
       "      <th>Number</th>\n",
       "      <th>Глюкоза</th>\n",
       "      <th>Мочевина</th>\n",
       "      <th>Креатинин</th>\n",
       "      <th>Мочевая к-та</th>\n",
       "      <th>Холестерин</th>\n",
       "      <th>Х-ЛПВП</th>\n",
       "      <th>Х-ЛПНП</th>\n",
       "      <th>Триглицериды</th>\n",
       "      <th>индекс массы тела</th>\n",
       "      <th>...</th>\n",
       "      <th>female</th>\n",
       "      <th>no_spec_gender</th>\n",
       "      <th>laborers</th>\n",
       "      <th>servants</th>\n",
       "      <th>leadership</th>\n",
       "      <th>scientific</th>\n",
       "      <th>engineering</th>\n",
       "      <th>no_job_data</th>\n",
       "      <th>retiree</th>\n",
       "      <th>age</th>\n",
       "    </tr>\n",
       "  </thead>\n",
       "  <tbody>\n",
       "    <tr>\n",
       "      <td>1</td>\n",
       "      <td>2.0</td>\n",
       "      <td>6.2</td>\n",
       "      <td>5.9</td>\n",
       "      <td>110</td>\n",
       "      <td>443</td>\n",
       "      <td>6.2</td>\n",
       "      <td>1.07</td>\n",
       "      <td>4.25</td>\n",
       "      <td>2.37</td>\n",
       "      <td>20.00</td>\n",
       "      <td>...</td>\n",
       "      <td>0</td>\n",
       "      <td>0</td>\n",
       "      <td>1</td>\n",
       "      <td>0</td>\n",
       "      <td>0</td>\n",
       "      <td>0</td>\n",
       "      <td>0</td>\n",
       "      <td>0</td>\n",
       "      <td>0</td>\n",
       "      <td>63.0</td>\n",
       "    </tr>\n",
       "    <tr>\n",
       "      <td>2</td>\n",
       "      <td>3.0</td>\n",
       "      <td>5.2</td>\n",
       "      <td>5.0</td>\n",
       "      <td>72</td>\n",
       "      <td>164</td>\n",
       "      <td>5.5</td>\n",
       "      <td>2.27</td>\n",
       "      <td>3.39</td>\n",
       "      <td>0.64</td>\n",
       "      <td>20.69</td>\n",
       "      <td>...</td>\n",
       "      <td>1</td>\n",
       "      <td>0</td>\n",
       "      <td>0</td>\n",
       "      <td>0</td>\n",
       "      <td>0</td>\n",
       "      <td>0</td>\n",
       "      <td>1</td>\n",
       "      <td>0</td>\n",
       "      <td>0</td>\n",
       "      <td>57.0</td>\n",
       "    </tr>\n",
       "  </tbody>\n",
       "</table>\n",
       "<p>2 rows × 44 columns</p>\n",
       "</div>"
      ],
      "text/plain": [
       "   Number  Глюкоза  Мочевина  Креатинин  Мочевая к-та  Холестерин  Х-ЛПВП  \\\n",
       "1     2.0      6.2       5.9        110           443         6.2    1.07   \n",
       "2     3.0      5.2       5.0         72           164         5.5    2.27   \n",
       "\n",
       "   Х-ЛПНП  Триглицериды  индекс массы тела  ...  female  no_spec_gender  \\\n",
       "1    4.25          2.37              20.00  ...       0               0   \n",
       "2    3.39          0.64              20.69  ...       1               0   \n",
       "\n",
       "   laborers  servants  leadership  scientific  engineering  no_job_data  \\\n",
       "1         1         0           0           0            0            0   \n",
       "2         0         0           0           0            1            0   \n",
       "\n",
       "   retiree   age  \n",
       "1        0  63.0  \n",
       "2        0  57.0  \n",
       "\n",
       "[2 rows x 44 columns]"
      ]
     },
     "execution_count": 61,
     "metadata": {},
     "output_type": "execute_result"
    }
   ],
   "source": [
    "sub_data.head(2)"
   ]
  },
  {
   "cell_type": "raw",
   "metadata": {},
   "source": [
    "2 Варианта\n",
    "1) Предсказать элементы, имеющие 0 по наборам o и п\n",
    "2) Посчитать 0 как o, сделать KFolds\\train_test_split"
   ]
  },
  {
   "cell_type": "markdown",
   "metadata": {},
   "source": [
    "1 вариант"
   ]
  },
  {
   "cell_type": "code",
   "execution_count": 62,
   "metadata": {},
   "outputs": [],
   "source": [
    "Index_label = sub_data[sub_data['target'] == 0].index.tolist()"
   ]
  },
  {
   "cell_type": "code",
   "execution_count": 63,
   "metadata": {},
   "outputs": [],
   "source": [
    "test_set = sub_data.loc[Index_label].drop(columns = {'target'})"
   ]
  },
  {
   "cell_type": "code",
   "execution_count": 64,
   "metadata": {},
   "outputs": [
    {
     "data": {
      "text/html": [
       "<div>\n",
       "<style scoped>\n",
       "    .dataframe tbody tr th:only-of-type {\n",
       "        vertical-align: middle;\n",
       "    }\n",
       "\n",
       "    .dataframe tbody tr th {\n",
       "        vertical-align: top;\n",
       "    }\n",
       "\n",
       "    .dataframe thead th {\n",
       "        text-align: right;\n",
       "    }\n",
       "</style>\n",
       "<table border=\"1\" class=\"dataframe\">\n",
       "  <thead>\n",
       "    <tr style=\"text-align: right;\">\n",
       "      <th></th>\n",
       "      <th>Number</th>\n",
       "      <th>Глюкоза</th>\n",
       "      <th>Мочевина</th>\n",
       "      <th>Креатинин</th>\n",
       "      <th>Мочевая к-та</th>\n",
       "      <th>Холестерин</th>\n",
       "      <th>Х-ЛПВП</th>\n",
       "      <th>Х-ЛПНП</th>\n",
       "      <th>Триглицериды</th>\n",
       "      <th>индекс массы тела</th>\n",
       "      <th>...</th>\n",
       "      <th>female</th>\n",
       "      <th>no_spec_gender</th>\n",
       "      <th>laborers</th>\n",
       "      <th>servants</th>\n",
       "      <th>leadership</th>\n",
       "      <th>scientific</th>\n",
       "      <th>engineering</th>\n",
       "      <th>no_job_data</th>\n",
       "      <th>retiree</th>\n",
       "      <th>age</th>\n",
       "    </tr>\n",
       "  </thead>\n",
       "  <tbody>\n",
       "    <tr>\n",
       "      <td>1</td>\n",
       "      <td>2.0</td>\n",
       "      <td>6.2</td>\n",
       "      <td>5.9</td>\n",
       "      <td>110</td>\n",
       "      <td>443</td>\n",
       "      <td>6.2</td>\n",
       "      <td>1.07</td>\n",
       "      <td>4.25</td>\n",
       "      <td>2.37</td>\n",
       "      <td>20.00</td>\n",
       "      <td>...</td>\n",
       "      <td>0</td>\n",
       "      <td>0</td>\n",
       "      <td>1</td>\n",
       "      <td>0</td>\n",
       "      <td>0</td>\n",
       "      <td>0</td>\n",
       "      <td>0</td>\n",
       "      <td>0</td>\n",
       "      <td>0</td>\n",
       "      <td>63.0</td>\n",
       "    </tr>\n",
       "    <tr>\n",
       "      <td>2</td>\n",
       "      <td>3.0</td>\n",
       "      <td>5.2</td>\n",
       "      <td>5.0</td>\n",
       "      <td>72</td>\n",
       "      <td>164</td>\n",
       "      <td>5.5</td>\n",
       "      <td>2.27</td>\n",
       "      <td>3.39</td>\n",
       "      <td>0.64</td>\n",
       "      <td>20.69</td>\n",
       "      <td>...</td>\n",
       "      <td>1</td>\n",
       "      <td>0</td>\n",
       "      <td>0</td>\n",
       "      <td>0</td>\n",
       "      <td>0</td>\n",
       "      <td>0</td>\n",
       "      <td>1</td>\n",
       "      <td>0</td>\n",
       "      <td>0</td>\n",
       "      <td>57.0</td>\n",
       "    </tr>\n",
       "    <tr>\n",
       "      <td>3</td>\n",
       "      <td>4.0</td>\n",
       "      <td>5.1</td>\n",
       "      <td>5.8</td>\n",
       "      <td>85</td>\n",
       "      <td>345</td>\n",
       "      <td>6.6</td>\n",
       "      <td>2.10</td>\n",
       "      <td>4.14</td>\n",
       "      <td>0.36</td>\n",
       "      <td>30.47</td>\n",
       "      <td>...</td>\n",
       "      <td>0</td>\n",
       "      <td>1</td>\n",
       "      <td>0</td>\n",
       "      <td>0</td>\n",
       "      <td>0</td>\n",
       "      <td>0</td>\n",
       "      <td>1</td>\n",
       "      <td>0</td>\n",
       "      <td>0</td>\n",
       "      <td>57.0</td>\n",
       "    </tr>\n",
       "    <tr>\n",
       "      <td>4</td>\n",
       "      <td>5.0</td>\n",
       "      <td>5.6</td>\n",
       "      <td>5.7</td>\n",
       "      <td>74</td>\n",
       "      <td>438</td>\n",
       "      <td>6.3</td>\n",
       "      <td>1.04</td>\n",
       "      <td>3.96</td>\n",
       "      <td>3.38</td>\n",
       "      <td>31.80</td>\n",
       "      <td>...</td>\n",
       "      <td>0</td>\n",
       "      <td>0</td>\n",
       "      <td>1</td>\n",
       "      <td>0</td>\n",
       "      <td>0</td>\n",
       "      <td>0</td>\n",
       "      <td>0</td>\n",
       "      <td>0</td>\n",
       "      <td>0</td>\n",
       "      <td>55.0</td>\n",
       "    </tr>\n",
       "    <tr>\n",
       "      <td>5</td>\n",
       "      <td>12.0</td>\n",
       "      <td>5.7</td>\n",
       "      <td>5.5</td>\n",
       "      <td>88</td>\n",
       "      <td>286</td>\n",
       "      <td>7.1</td>\n",
       "      <td>0.91</td>\n",
       "      <td>5.33</td>\n",
       "      <td>1.80</td>\n",
       "      <td>26.50</td>\n",
       "      <td>...</td>\n",
       "      <td>0</td>\n",
       "      <td>0</td>\n",
       "      <td>1</td>\n",
       "      <td>0</td>\n",
       "      <td>0</td>\n",
       "      <td>0</td>\n",
       "      <td>0</td>\n",
       "      <td>0</td>\n",
       "      <td>0</td>\n",
       "      <td>60.0</td>\n",
       "    </tr>\n",
       "  </tbody>\n",
       "</table>\n",
       "<p>5 rows × 43 columns</p>\n",
       "</div>"
      ],
      "text/plain": [
       "   Number  Глюкоза  Мочевина  Креатинин  Мочевая к-та  Холестерин  Х-ЛПВП  \\\n",
       "1     2.0      6.2       5.9        110           443         6.2    1.07   \n",
       "2     3.0      5.2       5.0         72           164         5.5    2.27   \n",
       "3     4.0      5.1       5.8         85           345         6.6    2.10   \n",
       "4     5.0      5.6       5.7         74           438         6.3    1.04   \n",
       "5    12.0      5.7       5.5         88           286         7.1    0.91   \n",
       "\n",
       "   Х-ЛПНП  Триглицериды  индекс массы тела  ...  female  no_spec_gender  \\\n",
       "1    4.25          2.37              20.00  ...       0               0   \n",
       "2    3.39          0.64              20.69  ...       1               0   \n",
       "3    4.14          0.36              30.47  ...       0               1   \n",
       "4    3.96          3.38              31.80  ...       0               0   \n",
       "5    5.33          1.80              26.50  ...       0               0   \n",
       "\n",
       "   laborers  servants  leadership  scientific  engineering  no_job_data  \\\n",
       "1         1         0           0           0            0            0   \n",
       "2         0         0           0           0            1            0   \n",
       "3         0         0           0           0            1            0   \n",
       "4         1         0           0           0            0            0   \n",
       "5         1         0           0           0            0            0   \n",
       "\n",
       "   retiree   age  \n",
       "1        0  63.0  \n",
       "2        0  57.0  \n",
       "3        0  57.0  \n",
       "4        0  55.0  \n",
       "5        0  60.0  \n",
       "\n",
       "[5 rows x 43 columns]"
      ]
     },
     "execution_count": 64,
     "metadata": {},
     "output_type": "execute_result"
    }
   ],
   "source": [
    "test_set.head(5)"
   ]
  },
  {
   "cell_type": "code",
   "execution_count": 65,
   "metadata": {},
   "outputs": [],
   "source": [
    "Anti_Index_label = sub_data[sub_data['target'] != 0].index.tolist()"
   ]
  },
  {
   "cell_type": "code",
   "execution_count": 66,
   "metadata": {},
   "outputs": [],
   "source": [
    "train_set = sub_data.loc[Anti_Index_label].drop(columns = {'target'})\n",
    "train_target = sub_data.loc[Anti_Index_label]['target']"
   ]
  },
  {
   "cell_type": "code",
   "execution_count": 67,
   "metadata": {},
   "outputs": [
    {
     "data": {
      "text/html": [
       "<div>\n",
       "<style scoped>\n",
       "    .dataframe tbody tr th:only-of-type {\n",
       "        vertical-align: middle;\n",
       "    }\n",
       "\n",
       "    .dataframe tbody tr th {\n",
       "        vertical-align: top;\n",
       "    }\n",
       "\n",
       "    .dataframe thead th {\n",
       "        text-align: right;\n",
       "    }\n",
       "</style>\n",
       "<table border=\"1\" class=\"dataframe\">\n",
       "  <thead>\n",
       "    <tr style=\"text-align: right;\">\n",
       "      <th></th>\n",
       "      <th>Number</th>\n",
       "      <th>Глюкоза</th>\n",
       "      <th>Мочевина</th>\n",
       "      <th>Креатинин</th>\n",
       "      <th>Мочевая к-та</th>\n",
       "      <th>Холестерин</th>\n",
       "      <th>Х-ЛПВП</th>\n",
       "      <th>Х-ЛПНП</th>\n",
       "      <th>Триглицериды</th>\n",
       "      <th>индекс массы тела</th>\n",
       "      <th>...</th>\n",
       "      <th>female</th>\n",
       "      <th>no_spec_gender</th>\n",
       "      <th>laborers</th>\n",
       "      <th>servants</th>\n",
       "      <th>leadership</th>\n",
       "      <th>scientific</th>\n",
       "      <th>engineering</th>\n",
       "      <th>no_job_data</th>\n",
       "      <th>retiree</th>\n",
       "      <th>age</th>\n",
       "    </tr>\n",
       "  </thead>\n",
       "  <tbody>\n",
       "    <tr>\n",
       "      <td>61</td>\n",
       "      <td>64.0</td>\n",
       "      <td>5.4</td>\n",
       "      <td>6.3</td>\n",
       "      <td>57</td>\n",
       "      <td>174</td>\n",
       "      <td>4.7</td>\n",
       "      <td>1.59</td>\n",
       "      <td>2.90</td>\n",
       "      <td>0.77</td>\n",
       "      <td>43.70</td>\n",
       "      <td>...</td>\n",
       "      <td>1</td>\n",
       "      <td>0</td>\n",
       "      <td>1</td>\n",
       "      <td>0</td>\n",
       "      <td>0</td>\n",
       "      <td>0</td>\n",
       "      <td>0</td>\n",
       "      <td>0</td>\n",
       "      <td>0</td>\n",
       "      <td>46.0</td>\n",
       "    </tr>\n",
       "    <tr>\n",
       "      <td>62</td>\n",
       "      <td>131.0</td>\n",
       "      <td>5.2</td>\n",
       "      <td>8.8</td>\n",
       "      <td>98</td>\n",
       "      <td>349</td>\n",
       "      <td>3.7</td>\n",
       "      <td>1.25</td>\n",
       "      <td>2.45</td>\n",
       "      <td>0.73</td>\n",
       "      <td>28.08</td>\n",
       "      <td>...</td>\n",
       "      <td>0</td>\n",
       "      <td>0</td>\n",
       "      <td>0</td>\n",
       "      <td>0</td>\n",
       "      <td>0</td>\n",
       "      <td>0</td>\n",
       "      <td>0</td>\n",
       "      <td>1</td>\n",
       "      <td>0</td>\n",
       "      <td>29.0</td>\n",
       "    </tr>\n",
       "    <tr>\n",
       "      <td>63</td>\n",
       "      <td>135.0</td>\n",
       "      <td>6.0</td>\n",
       "      <td>6.5</td>\n",
       "      <td>102</td>\n",
       "      <td>403</td>\n",
       "      <td>4.8</td>\n",
       "      <td>0.84</td>\n",
       "      <td>3.23</td>\n",
       "      <td>0.73</td>\n",
       "      <td>26.47</td>\n",
       "      <td>...</td>\n",
       "      <td>0</td>\n",
       "      <td>0</td>\n",
       "      <td>1</td>\n",
       "      <td>0</td>\n",
       "      <td>0</td>\n",
       "      <td>0</td>\n",
       "      <td>0</td>\n",
       "      <td>0</td>\n",
       "      <td>0</td>\n",
       "      <td>50.0</td>\n",
       "    </tr>\n",
       "    <tr>\n",
       "      <td>64</td>\n",
       "      <td>138.0</td>\n",
       "      <td>5.7</td>\n",
       "      <td>5.1</td>\n",
       "      <td>92</td>\n",
       "      <td>289</td>\n",
       "      <td>4.4</td>\n",
       "      <td>1.16</td>\n",
       "      <td>2.78</td>\n",
       "      <td>0.80</td>\n",
       "      <td>22.84</td>\n",
       "      <td>...</td>\n",
       "      <td>0</td>\n",
       "      <td>0</td>\n",
       "      <td>1</td>\n",
       "      <td>0</td>\n",
       "      <td>0</td>\n",
       "      <td>0</td>\n",
       "      <td>0</td>\n",
       "      <td>0</td>\n",
       "      <td>0</td>\n",
       "      <td>37.0</td>\n",
       "    </tr>\n",
       "    <tr>\n",
       "      <td>65</td>\n",
       "      <td>144.0</td>\n",
       "      <td>5.1</td>\n",
       "      <td>5.1</td>\n",
       "      <td>57</td>\n",
       "      <td>255</td>\n",
       "      <td>5.0</td>\n",
       "      <td>1.37</td>\n",
       "      <td>3.14</td>\n",
       "      <td>0.94</td>\n",
       "      <td>25.53</td>\n",
       "      <td>...</td>\n",
       "      <td>1</td>\n",
       "      <td>0</td>\n",
       "      <td>0</td>\n",
       "      <td>0</td>\n",
       "      <td>0</td>\n",
       "      <td>1</td>\n",
       "      <td>0</td>\n",
       "      <td>0</td>\n",
       "      <td>0</td>\n",
       "      <td>45.0</td>\n",
       "    </tr>\n",
       "  </tbody>\n",
       "</table>\n",
       "<p>5 rows × 43 columns</p>\n",
       "</div>"
      ],
      "text/plain": [
       "    Number  Глюкоза  Мочевина  Креатинин  Мочевая к-та  Холестерин  Х-ЛПВП  \\\n",
       "61    64.0      5.4       6.3         57           174         4.7    1.59   \n",
       "62   131.0      5.2       8.8         98           349         3.7    1.25   \n",
       "63   135.0      6.0       6.5        102           403         4.8    0.84   \n",
       "64   138.0      5.7       5.1         92           289         4.4    1.16   \n",
       "65   144.0      5.1       5.1         57           255         5.0    1.37   \n",
       "\n",
       "    Х-ЛПНП  Триглицериды  индекс массы тела  ...  female  no_spec_gender  \\\n",
       "61    2.90          0.77              43.70  ...       1               0   \n",
       "62    2.45          0.73              28.08  ...       0               0   \n",
       "63    3.23          0.73              26.47  ...       0               0   \n",
       "64    2.78          0.80              22.84  ...       0               0   \n",
       "65    3.14          0.94              25.53  ...       1               0   \n",
       "\n",
       "    laborers  servants  leadership  scientific  engineering  no_job_data  \\\n",
       "61         1         0           0           0            0            0   \n",
       "62         0         0           0           0            0            1   \n",
       "63         1         0           0           0            0            0   \n",
       "64         1         0           0           0            0            0   \n",
       "65         0         0           0           1            0            0   \n",
       "\n",
       "    retiree   age  \n",
       "61        0  46.0  \n",
       "62        0  29.0  \n",
       "63        0  50.0  \n",
       "64        0  37.0  \n",
       "65        0  45.0  \n",
       "\n",
       "[5 rows x 43 columns]"
      ]
     },
     "execution_count": 67,
     "metadata": {},
     "output_type": "execute_result"
    }
   ],
   "source": [
    "train_set.head(5)"
   ]
  },
  {
   "cell_type": "code",
   "execution_count": 68,
   "metadata": {},
   "outputs": [],
   "source": [
    "from sklearn.ensemble import GradientBoostingClassifier as GBC"
   ]
  },
  {
   "cell_type": "code",
   "execution_count": 69,
   "metadata": {},
   "outputs": [],
   "source": [
    "model = GBC(n_estimators = 300)"
   ]
  },
  {
   "cell_type": "code",
   "execution_count": 70,
   "metadata": {},
   "outputs": [],
   "source": [
    "train_set.fillna(0, inplace = True)"
   ]
  },
  {
   "cell_type": "code",
   "execution_count": 71,
   "metadata": {},
   "outputs": [
    {
     "data": {
      "text/plain": [
       "GradientBoostingClassifier(criterion='friedman_mse', init=None,\n",
       "                           learning_rate=0.1, loss='deviance', max_depth=3,\n",
       "                           max_features=None, max_leaf_nodes=None,\n",
       "                           min_impurity_decrease=0.0, min_impurity_split=None,\n",
       "                           min_samples_leaf=1, min_samples_split=2,\n",
       "                           min_weight_fraction_leaf=0.0, n_estimators=300,\n",
       "                           n_iter_no_change=None, presort='auto',\n",
       "                           random_state=None, subsample=1.0, tol=0.0001,\n",
       "                           validation_fraction=0.1, verbose=0,\n",
       "                           warm_start=False)"
      ]
     },
     "execution_count": 71,
     "metadata": {},
     "output_type": "execute_result"
    }
   ],
   "source": [
    "model.fit(train_set, train_target)"
   ]
  },
  {
   "cell_type": "code",
   "execution_count": 72,
   "metadata": {},
   "outputs": [],
   "source": [
    "test_set.fillna(0, inplace = True)"
   ]
  },
  {
   "cell_type": "code",
   "execution_count": 73,
   "metadata": {},
   "outputs": [],
   "source": [
    "pred_GBC_with = model.predict(test_set)"
   ]
  },
  {
   "cell_type": "code",
   "execution_count": 74,
   "metadata": {},
   "outputs": [
    {
     "data": {
      "text/plain": [
       "array(['п', 'п', 'п', 'п', 'о', 'о', 'о', 'о', 'о', 'о', 'о', 'о', 'о',\n",
       "       'о', 'о', 'о', 'п', 'п', 'п', 'о', 'о', 'п', 'о', 'п', 'о', 'о',\n",
       "       'п', 'п', 'п', 'п', 'о', 'о', 'о', 'п', 'п', 'о', 'п', 'п', 'п',\n",
       "       'п', 'о', 'п', 'п', 'п', 'п', 'п', 'п', 'п', 'п', 'о', 'п', 'п',\n",
       "       'о', 'о', 'п', 'п', 'о', 'п', 'п', 'п'], dtype=object)"
      ]
     },
     "execution_count": 74,
     "metadata": {},
     "output_type": "execute_result"
    }
   ],
   "source": [
    "pred_GBC_with"
   ]
  },
  {
   "cell_type": "markdown",
   "metadata": {},
   "source": [
    "вариант 2"
   ]
  },
  {
   "cell_type": "code",
   "execution_count": 75,
   "metadata": {},
   "outputs": [],
   "source": [
    "sub_data['target'].replace({0 : 'о', 'o' : 'о'}, inplace = True)"
   ]
  },
  {
   "cell_type": "code",
   "execution_count": 76,
   "metadata": {},
   "outputs": [
    {
     "data": {
      "text/plain": [
       "array(['о', 'п'], dtype=object)"
      ]
     },
     "execution_count": 76,
     "metadata": {},
     "output_type": "execute_result"
    }
   ],
   "source": [
    "sub_data['target'].unique()"
   ]
  },
  {
   "cell_type": "code",
   "execution_count": 77,
   "metadata": {},
   "outputs": [],
   "source": [
    "from sklearn.model_selection import StratifiedKFold"
   ]
  },
  {
   "cell_type": "code",
   "execution_count": 78,
   "metadata": {},
   "outputs": [],
   "source": [
    "target = sub_data['target']\n",
    "sub_data = sub_data.fillna(0)"
   ]
  },
  {
   "cell_type": "code",
   "execution_count": 79,
   "metadata": {},
   "outputs": [],
   "source": [
    "sub_data.drop(columns={'target'}, inplace = True)"
   ]
  },
  {
   "cell_type": "code",
   "execution_count": 82,
   "metadata": {},
   "outputs": [
    {
     "data": {
      "text/plain": [
       "1       90.0\n",
       "2       80.0\n",
       "3       80.0\n",
       "4       80.0\n",
       "5       80.0\n",
       "       ...  \n",
       "113     80.0\n",
       "114     80.0\n",
       "115     90.0\n",
       "116    100.0\n",
       "117     90.0\n",
       "Name: ДАД, Length: 117, dtype: float64"
      ]
     },
     "execution_count": 82,
     "metadata": {},
     "output_type": "execute_result"
    }
   ],
   "source": [
    "sub_data['ДАД']"
   ]
  },
  {
   "cell_type": "code",
   "execution_count": 83,
   "metadata": {},
   "outputs": [],
   "source": [
    "folds = StratifiedKFold(n_splits = 8, shuffle = True, random_state = 317)"
   ]
  },
  {
   "cell_type": "code",
   "execution_count": 84,
   "metadata": {},
   "outputs": [],
   "source": [
    "model = GBC(n_estimators = 300)"
   ]
  },
  {
   "cell_type": "code",
   "execution_count": 85,
   "metadata": {},
   "outputs": [],
   "source": [
    "from sklearn.metrics import accuracy_score as ac_s"
   ]
  },
  {
   "cell_type": "code",
   "execution_count": 87,
   "metadata": {},
   "outputs": [
    {
     "name": "stdout",
     "output_type": "stream",
     "text": [
      "Accuracy:  0.9375\n",
      "Accuracy:  0.8125\n",
      "Accuracy:  0.6666666666666666\n",
      "Accuracy:  0.7857142857142857\n",
      "Accuracy:  0.7857142857142857\n",
      "Accuracy:  0.8571428571428571\n",
      "Accuracy:  1.0\n",
      "Accuracy:  0.7857142857142857\n"
     ]
    }
   ],
   "source": [
    "for train_split, test_split in folds.split(sub_data, target):\n",
    "    \n",
    "    #print(train_split, test_split)\n",
    "\n",
    "    data_train, data_test = sub_data.loc[train_split + 1], sub_data.loc[test_split + 1]\n",
    "    targ_train, targ_test = target.loc[train_split + 1], target.loc[test_split + 1]\n",
    "    \n",
    "    model.fit(data_train, targ_train)\n",
    "    pred = model.predict(data_test)\n",
    "    \n",
    "    print(\"Accuracy: \", ac_s(targ_test, pred))"
   ]
  },
  {
   "cell_type": "markdown",
   "metadata": {},
   "source": [
    "Теперь попробуем удалить столбцы давления"
   ]
  },
  {
   "cell_type": "code",
   "execution_count": 91,
   "metadata": {},
   "outputs": [],
   "source": [
    "sub_data = pd.DataFrame.copy(data)\n",
    "sub_data.drop(columns={'САД', 'ДАД'}, inplace = True)"
   ]
  },
  {
   "cell_type": "code",
   "execution_count": 92,
   "metadata": {},
   "outputs": [
    {
     "data": {
      "text/plain": [
       "Index(['Number', 'Глюкоза', 'Мочевина', 'Креатинин', 'Мочевая к-та',\n",
       "       'Холестерин', 'Х-ЛПВП', 'Х-ЛПНП', 'Триглицериды', 'индекс массы тела',\n",
       "       'smoking', 'Alcoholic', 'excess_salt_intake', 'гиподинамия', 'стресс',\n",
       "       'прием п\\щ контрац', 'насл отяг, По ГБ, ', 'насл отяг, По ССЗ',\n",
       "       'насл отяг, По СД', 'насл, Отяг по почечн, Заб',\n",
       "       'ГЛЖ ин Соколова-Лайона', 'S100b, нг/л (N до 90)',\n",
       "       'Анг II, пг/мл (N 10-60 пг/мл)', 'ЭТ, пмоль/л    (N =0,09)',\n",
       "       'VEGF,  пг/мл (N40-600)', 'HLDF (нг/мл', 'АТ к S100b', 'АТ к Анг  II ',\n",
       "       'АТ к ЭТ ', 'АТ к HLDF- 24', 'target', 'male', 'female',\n",
       "       'no_spec_gender', 'laborers', 'servants', 'leadership', 'scientific',\n",
       "       'engineering', 'no_job_data', 'retiree', 'age'],\n",
       "      dtype='object')"
      ]
     },
     "execution_count": 92,
     "metadata": {},
     "output_type": "execute_result"
    }
   ],
   "source": [
    "sub_data.columns"
   ]
  },
  {
   "cell_type": "code",
   "execution_count": 93,
   "metadata": {},
   "outputs": [
    {
     "data": {
      "text/plain": [
       "array([0, 'о', 'п'], dtype=object)"
      ]
     },
     "execution_count": 93,
     "metadata": {},
     "output_type": "execute_result"
    }
   ],
   "source": [
    "sub_data['target'].unique()"
   ]
  },
  {
   "cell_type": "code",
   "execution_count": 94,
   "metadata": {},
   "outputs": [
    {
     "data": {
      "text/plain": [
       "([1,\n",
       "  2,\n",
       "  3,\n",
       "  4,\n",
       "  5,\n",
       "  6,\n",
       "  7,\n",
       "  8,\n",
       "  9,\n",
       "  10,\n",
       "  11,\n",
       "  12,\n",
       "  13,\n",
       "  14,\n",
       "  15,\n",
       "  16,\n",
       "  17,\n",
       "  18,\n",
       "  19,\n",
       "  20,\n",
       "  21,\n",
       "  22,\n",
       "  23,\n",
       "  24,\n",
       "  25,\n",
       "  26,\n",
       "  27,\n",
       "  28,\n",
       "  29,\n",
       "  30,\n",
       "  31,\n",
       "  32,\n",
       "  33,\n",
       "  34,\n",
       "  35,\n",
       "  36,\n",
       "  37,\n",
       "  38,\n",
       "  39,\n",
       "  40,\n",
       "  41,\n",
       "  42,\n",
       "  43,\n",
       "  44,\n",
       "  45,\n",
       "  46,\n",
       "  47,\n",
       "  48,\n",
       "  49,\n",
       "  50,\n",
       "  51,\n",
       "  52,\n",
       "  53,\n",
       "  54,\n",
       "  55,\n",
       "  56,\n",
       "  57,\n",
       "  58,\n",
       "  59,\n",
       "  60],\n",
       " [61,\n",
       "  62,\n",
       "  63,\n",
       "  64,\n",
       "  65,\n",
       "  66,\n",
       "  67,\n",
       "  68,\n",
       "  69,\n",
       "  70,\n",
       "  71,\n",
       "  72,\n",
       "  73,\n",
       "  74,\n",
       "  75,\n",
       "  76,\n",
       "  77,\n",
       "  78,\n",
       "  79,\n",
       "  80,\n",
       "  81,\n",
       "  82,\n",
       "  83,\n",
       "  84,\n",
       "  85,\n",
       "  86,\n",
       "  87,\n",
       "  88,\n",
       "  89,\n",
       "  90,\n",
       "  91,\n",
       "  92,\n",
       "  93,\n",
       "  94,\n",
       "  95,\n",
       "  96,\n",
       "  97,\n",
       "  98,\n",
       "  99,\n",
       "  100,\n",
       "  101,\n",
       "  102,\n",
       "  103,\n",
       "  104,\n",
       "  105,\n",
       "  106,\n",
       "  107,\n",
       "  108,\n",
       "  109,\n",
       "  110,\n",
       "  111,\n",
       "  112,\n",
       "  113,\n",
       "  114,\n",
       "  115,\n",
       "  116,\n",
       "  117])"
      ]
     },
     "execution_count": 94,
     "metadata": {},
     "output_type": "execute_result"
    }
   ],
   "source": [
    "Index_label, Anti_Index_label"
   ]
  },
  {
   "cell_type": "code",
   "execution_count": 95,
   "metadata": {},
   "outputs": [
    {
     "data": {
      "text/plain": [
       "1      0\n",
       "2      0\n",
       "3      0\n",
       "4      0\n",
       "5      0\n",
       "      ..\n",
       "113    п\n",
       "114    п\n",
       "115    п\n",
       "116    п\n",
       "117    п\n",
       "Name: target, Length: 117, dtype: object"
      ]
     },
     "execution_count": 95,
     "metadata": {},
     "output_type": "execute_result"
    }
   ],
   "source": [
    "target_col = sub_data['target']\n",
    "target_col"
   ]
  },
  {
   "cell_type": "code",
   "execution_count": 106,
   "metadata": {},
   "outputs": [],
   "source": [
    "sub_data.drop(columns = {'target'}, inplace = True)"
   ]
  },
  {
   "cell_type": "code",
   "execution_count": 107,
   "metadata": {},
   "outputs": [
    {
     "ename": "KeyError",
     "evalue": "'target'",
     "output_type": "error",
     "traceback": [
      "\u001b[0;31m---------------------------------------------------------------------------\u001b[0m",
      "\u001b[0;31mKeyError\u001b[0m                                  Traceback (most recent call last)",
      "\u001b[0;32m/usr/local/lib/python3.7/site-packages/pandas/core/indexes/base.py\u001b[0m in \u001b[0;36mget_loc\u001b[0;34m(self, key, method, tolerance)\u001b[0m\n\u001b[1;32m   2896\u001b[0m             \u001b[0;32mtry\u001b[0m\u001b[0;34m:\u001b[0m\u001b[0;34m\u001b[0m\u001b[0;34m\u001b[0m\u001b[0m\n\u001b[0;32m-> 2897\u001b[0;31m                 \u001b[0;32mreturn\u001b[0m \u001b[0mself\u001b[0m\u001b[0;34m.\u001b[0m\u001b[0m_engine\u001b[0m\u001b[0;34m.\u001b[0m\u001b[0mget_loc\u001b[0m\u001b[0;34m(\u001b[0m\u001b[0mkey\u001b[0m\u001b[0;34m)\u001b[0m\u001b[0;34m\u001b[0m\u001b[0;34m\u001b[0m\u001b[0m\n\u001b[0m\u001b[1;32m   2898\u001b[0m             \u001b[0;32mexcept\u001b[0m \u001b[0mKeyError\u001b[0m\u001b[0;34m:\u001b[0m\u001b[0;34m\u001b[0m\u001b[0;34m\u001b[0m\u001b[0m\n",
      "\u001b[0;32mpandas/_libs/index.pyx\u001b[0m in \u001b[0;36mpandas._libs.index.IndexEngine.get_loc\u001b[0;34m()\u001b[0m\n",
      "\u001b[0;32mpandas/_libs/index.pyx\u001b[0m in \u001b[0;36mpandas._libs.index.IndexEngine.get_loc\u001b[0;34m()\u001b[0m\n",
      "\u001b[0;32mpandas/_libs/hashtable_class_helper.pxi\u001b[0m in \u001b[0;36mpandas._libs.hashtable.PyObjectHashTable.get_item\u001b[0;34m()\u001b[0m\n",
      "\u001b[0;32mpandas/_libs/hashtable_class_helper.pxi\u001b[0m in \u001b[0;36mpandas._libs.hashtable.PyObjectHashTable.get_item\u001b[0;34m()\u001b[0m\n",
      "\u001b[0;31mKeyError\u001b[0m: 'target'",
      "\nDuring handling of the above exception, another exception occurred:\n",
      "\u001b[0;31mKeyError\u001b[0m                                  Traceback (most recent call last)",
      "\u001b[0;32m<ipython-input-107-8c84abe2b690>\u001b[0m in \u001b[0;36m<module>\u001b[0;34m\u001b[0m\n\u001b[0;32m----> 1\u001b[0;31m \u001b[0msub_data\u001b[0m\u001b[0;34m[\u001b[0m\u001b[0;34m'target'\u001b[0m\u001b[0;34m]\u001b[0m\u001b[0;34m\u001b[0m\u001b[0;34m\u001b[0m\u001b[0m\n\u001b[0m",
      "\u001b[0;32m/usr/local/lib/python3.7/site-packages/pandas/core/frame.py\u001b[0m in \u001b[0;36m__getitem__\u001b[0;34m(self, key)\u001b[0m\n\u001b[1;32m   2978\u001b[0m             \u001b[0;32mif\u001b[0m \u001b[0mself\u001b[0m\u001b[0;34m.\u001b[0m\u001b[0mcolumns\u001b[0m\u001b[0;34m.\u001b[0m\u001b[0mnlevels\u001b[0m \u001b[0;34m>\u001b[0m \u001b[0;36m1\u001b[0m\u001b[0;34m:\u001b[0m\u001b[0;34m\u001b[0m\u001b[0;34m\u001b[0m\u001b[0m\n\u001b[1;32m   2979\u001b[0m                 \u001b[0;32mreturn\u001b[0m \u001b[0mself\u001b[0m\u001b[0;34m.\u001b[0m\u001b[0m_getitem_multilevel\u001b[0m\u001b[0;34m(\u001b[0m\u001b[0mkey\u001b[0m\u001b[0;34m)\u001b[0m\u001b[0;34m\u001b[0m\u001b[0;34m\u001b[0m\u001b[0m\n\u001b[0;32m-> 2980\u001b[0;31m             \u001b[0mindexer\u001b[0m \u001b[0;34m=\u001b[0m \u001b[0mself\u001b[0m\u001b[0;34m.\u001b[0m\u001b[0mcolumns\u001b[0m\u001b[0;34m.\u001b[0m\u001b[0mget_loc\u001b[0m\u001b[0;34m(\u001b[0m\u001b[0mkey\u001b[0m\u001b[0;34m)\u001b[0m\u001b[0;34m\u001b[0m\u001b[0;34m\u001b[0m\u001b[0m\n\u001b[0m\u001b[1;32m   2981\u001b[0m             \u001b[0;32mif\u001b[0m \u001b[0mis_integer\u001b[0m\u001b[0;34m(\u001b[0m\u001b[0mindexer\u001b[0m\u001b[0;34m)\u001b[0m\u001b[0;34m:\u001b[0m\u001b[0;34m\u001b[0m\u001b[0;34m\u001b[0m\u001b[0m\n\u001b[1;32m   2982\u001b[0m                 \u001b[0mindexer\u001b[0m \u001b[0;34m=\u001b[0m \u001b[0;34m[\u001b[0m\u001b[0mindexer\u001b[0m\u001b[0;34m]\u001b[0m\u001b[0;34m\u001b[0m\u001b[0;34m\u001b[0m\u001b[0m\n",
      "\u001b[0;32m/usr/local/lib/python3.7/site-packages/pandas/core/indexes/base.py\u001b[0m in \u001b[0;36mget_loc\u001b[0;34m(self, key, method, tolerance)\u001b[0m\n\u001b[1;32m   2897\u001b[0m                 \u001b[0;32mreturn\u001b[0m \u001b[0mself\u001b[0m\u001b[0;34m.\u001b[0m\u001b[0m_engine\u001b[0m\u001b[0;34m.\u001b[0m\u001b[0mget_loc\u001b[0m\u001b[0;34m(\u001b[0m\u001b[0mkey\u001b[0m\u001b[0;34m)\u001b[0m\u001b[0;34m\u001b[0m\u001b[0;34m\u001b[0m\u001b[0m\n\u001b[1;32m   2898\u001b[0m             \u001b[0;32mexcept\u001b[0m \u001b[0mKeyError\u001b[0m\u001b[0;34m:\u001b[0m\u001b[0;34m\u001b[0m\u001b[0;34m\u001b[0m\u001b[0m\n\u001b[0;32m-> 2899\u001b[0;31m                 \u001b[0;32mreturn\u001b[0m \u001b[0mself\u001b[0m\u001b[0;34m.\u001b[0m\u001b[0m_engine\u001b[0m\u001b[0;34m.\u001b[0m\u001b[0mget_loc\u001b[0m\u001b[0;34m(\u001b[0m\u001b[0mself\u001b[0m\u001b[0;34m.\u001b[0m\u001b[0m_maybe_cast_indexer\u001b[0m\u001b[0;34m(\u001b[0m\u001b[0mkey\u001b[0m\u001b[0;34m)\u001b[0m\u001b[0;34m)\u001b[0m\u001b[0;34m\u001b[0m\u001b[0;34m\u001b[0m\u001b[0m\n\u001b[0m\u001b[1;32m   2900\u001b[0m         \u001b[0mindexer\u001b[0m \u001b[0;34m=\u001b[0m \u001b[0mself\u001b[0m\u001b[0;34m.\u001b[0m\u001b[0mget_indexer\u001b[0m\u001b[0;34m(\u001b[0m\u001b[0;34m[\u001b[0m\u001b[0mkey\u001b[0m\u001b[0;34m]\u001b[0m\u001b[0;34m,\u001b[0m \u001b[0mmethod\u001b[0m\u001b[0;34m=\u001b[0m\u001b[0mmethod\u001b[0m\u001b[0;34m,\u001b[0m \u001b[0mtolerance\u001b[0m\u001b[0;34m=\u001b[0m\u001b[0mtolerance\u001b[0m\u001b[0;34m)\u001b[0m\u001b[0;34m\u001b[0m\u001b[0;34m\u001b[0m\u001b[0m\n\u001b[1;32m   2901\u001b[0m         \u001b[0;32mif\u001b[0m \u001b[0mindexer\u001b[0m\u001b[0;34m.\u001b[0m\u001b[0mndim\u001b[0m \u001b[0;34m>\u001b[0m \u001b[0;36m1\u001b[0m \u001b[0;32mor\u001b[0m \u001b[0mindexer\u001b[0m\u001b[0;34m.\u001b[0m\u001b[0msize\u001b[0m \u001b[0;34m>\u001b[0m \u001b[0;36m1\u001b[0m\u001b[0;34m:\u001b[0m\u001b[0;34m\u001b[0m\u001b[0;34m\u001b[0m\u001b[0m\n",
      "\u001b[0;32mpandas/_libs/index.pyx\u001b[0m in \u001b[0;36mpandas._libs.index.IndexEngine.get_loc\u001b[0;34m()\u001b[0m\n",
      "\u001b[0;32mpandas/_libs/index.pyx\u001b[0m in \u001b[0;36mpandas._libs.index.IndexEngine.get_loc\u001b[0;34m()\u001b[0m\n",
      "\u001b[0;32mpandas/_libs/hashtable_class_helper.pxi\u001b[0m in \u001b[0;36mpandas._libs.hashtable.PyObjectHashTable.get_item\u001b[0;34m()\u001b[0m\n",
      "\u001b[0;32mpandas/_libs/hashtable_class_helper.pxi\u001b[0m in \u001b[0;36mpandas._libs.hashtable.PyObjectHashTable.get_item\u001b[0;34m()\u001b[0m\n",
      "\u001b[0;31mKeyError\u001b[0m: 'target'"
     ]
    }
   ],
   "source": [
    "sub_data['target']"
   ]
  },
  {
   "cell_type": "code",
   "execution_count": 108,
   "metadata": {},
   "outputs": [],
   "source": [
    "data_train = sub_data.loc[Anti_Index_label]\n",
    "data_test = sub_data.loc[Index_label]\n",
    "target_train = target_col.loc[Anti_Index_label]"
   ]
  },
  {
   "cell_type": "code",
   "execution_count": 109,
   "metadata": {},
   "outputs": [],
   "source": [
    "data_train.fillna(0, inplace = True)\n",
    "data_test.fillna(0, inplace = True)"
   ]
  },
  {
   "cell_type": "code",
   "execution_count": 110,
   "metadata": {},
   "outputs": [
    {
     "data": {
      "text/plain": [
       "GradientBoostingClassifier(criterion='friedman_mse', init=None,\n",
       "                           learning_rate=0.1, loss='deviance', max_depth=3,\n",
       "                           max_features=None, max_leaf_nodes=None,\n",
       "                           min_impurity_decrease=0.0, min_impurity_split=None,\n",
       "                           min_samples_leaf=1, min_samples_split=2,\n",
       "                           min_weight_fraction_leaf=0.0, n_estimators=300,\n",
       "                           n_iter_no_change=None, presort='auto',\n",
       "                           random_state=None, subsample=1.0, tol=0.0001,\n",
       "                           validation_fraction=0.1, verbose=0,\n",
       "                           warm_start=False)"
      ]
     },
     "execution_count": 110,
     "metadata": {},
     "output_type": "execute_result"
    }
   ],
   "source": [
    "model.fit(data_train, target_train)"
   ]
  },
  {
   "cell_type": "code",
   "execution_count": 111,
   "metadata": {},
   "outputs": [],
   "source": [
    "pred_GBC_without = model.predict(data_test)"
   ]
  },
  {
   "cell_type": "code",
   "execution_count": 112,
   "metadata": {},
   "outputs": [
    {
     "data": {
      "text/plain": [
       "array(['п', 'п', 'п', 'п', 'о', 'о', 'о', 'о', 'о', 'о', 'п', 'о', 'о',\n",
       "       'о', 'о', 'о', 'п', 'п', 'п', 'о', 'о', 'п', 'о', 'п', 'о', 'о',\n",
       "       'п', 'п', 'п', 'п', 'о', 'о', 'о', 'п', 'п', 'о', 'п', 'п', 'п',\n",
       "       'п', 'о', 'п', 'п', 'п', 'п', 'п', 'п', 'п', 'п', 'о', 'п', 'п',\n",
       "       'о', 'о', 'п', 'п', 'о', 'п', 'п', 'п'], dtype=object)"
      ]
     },
     "execution_count": 112,
     "metadata": {},
     "output_type": "execute_result"
    }
   ],
   "source": [
    "pred_GBC_without"
   ]
  },
  {
   "cell_type": "markdown",
   "metadata": {},
   "source": [
    "Для сравнения"
   ]
  },
  {
   "cell_type": "code",
   "execution_count": 113,
   "metadata": {},
   "outputs": [
    {
     "data": {
      "text/plain": [
       "array(['п', 'п', 'п', 'п', 'о', 'о', 'о', 'о', 'о', 'о', 'о', 'о', 'о',\n",
       "       'о', 'о', 'о', 'п', 'п', 'п', 'о', 'о', 'п', 'о', 'п', 'о', 'о',\n",
       "       'п', 'п', 'п', 'п', 'о', 'о', 'о', 'п', 'п', 'о', 'п', 'п', 'п',\n",
       "       'п', 'о', 'п', 'п', 'п', 'п', 'п', 'п', 'п', 'п', 'о', 'п', 'п',\n",
       "       'о', 'о', 'п', 'п', 'о', 'п', 'п', 'п'], dtype=object)"
      ]
     },
     "execution_count": 113,
     "metadata": {},
     "output_type": "execute_result"
    }
   ],
   "source": [
    "pred_GBC_with"
   ]
  },
  {
   "cell_type": "markdown",
   "metadata": {},
   "source": [
    "Рассмотрим кросс-валидацию на тех же условиях"
   ]
  },
  {
   "cell_type": "code",
   "execution_count": 114,
   "metadata": {},
   "outputs": [
    {
     "data": {
      "text/plain": [
       "array(['о', 'п'], dtype=object)"
      ]
     },
     "execution_count": 114,
     "metadata": {},
     "output_type": "execute_result"
    }
   ],
   "source": [
    "target_col.replace({0 : 'о', 'o' : 'о'}, inplace = True)\n",
    "target_col.unique()"
   ]
  },
  {
   "cell_type": "code",
   "execution_count": null,
   "metadata": {},
   "outputs": [],
   "source": []
  },
  {
   "cell_type": "code",
   "execution_count": null,
   "metadata": {},
   "outputs": [],
   "source": [
    "sub_data.drop(columns={'target'}, inplace = True)"
   ]
  },
  {
   "cell_type": "code",
   "execution_count": null,
   "metadata": {},
   "outputs": [],
   "source": [
    "sub_data.fillna(0, inplace = True)"
   ]
  },
  {
   "cell_type": "code",
   "execution_count": null,
   "metadata": {},
   "outputs": [],
   "source": [
    "for train_split, test_split in folds.split(sub_data):\n",
    "    \n",
    "    #print(train_split, test_split)\n",
    "    \n",
    "    data_train, data_test = sub_data.loc[train_split + 1], sub_data.loc[test_split + 1]\n",
    "    targ_train, targ_test = target_col.loc[train_split + 1], target_col.loc[test_split + 1]\n",
    "    \n",
    "    model.fit(data_train, targ_train)\n",
    "    pred = model.predict(data_test)\n",
    "    \n",
    "    print(\"Accuracy: \", ac_s(targ_test, pred))"
   ]
  },
  {
   "cell_type": "code",
   "execution_count": null,
   "metadata": {},
   "outputs": [],
   "source": []
  }
 ],
 "metadata": {
  "kernelspec": {
   "display_name": "Python 3",
   "language": "python",
   "name": "python3"
  },
  "language_info": {
   "codemirror_mode": {
    "name": "ipython",
    "version": 3
   },
   "file_extension": ".py",
   "mimetype": "text/x-python",
   "name": "python",
   "nbconvert_exporter": "python",
   "pygments_lexer": "ipython3",
   "version": "3.7.4"
  }
 },
 "nbformat": 4,
 "nbformat_minor": 2
}
